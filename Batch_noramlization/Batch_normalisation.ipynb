{
 "cells": [
  {
   "cell_type": "code",
   "execution_count": 1,
   "metadata": {},
   "outputs": [
    {
     "name": "stderr",
     "output_type": "stream",
     "text": [
      "2022-10-23 00:47:19.944433: E tensorflow/stream_executor/cuda/cuda_blas.cc:2981] Unable to register cuBLAS factory: Attempting to register factory for plugin cuBLAS when one has already been registered\n"
     ]
    },
    {
     "data": {
      "text/html": [
       "        <script type=\"text/javascript\">\n",
       "        window.PlotlyConfig = {MathJaxConfig: 'local'};\n",
       "        if (window.MathJax && window.MathJax.Hub && window.MathJax.Hub.Config) {window.MathJax.Hub.Config({SVG: {font: \"STIX-Web\"}});}\n",
       "        if (typeof require !== 'undefined') {\n",
       "        require.undef(\"plotly\");\n",
       "        requirejs.config({\n",
       "            paths: {\n",
       "                'plotly': ['https://cdn.plot.ly/plotly-2.14.0.min']\n",
       "            }\n",
       "        });\n",
       "        require(['plotly'], function(Plotly) {\n",
       "            window._Plotly = Plotly;\n",
       "        });\n",
       "        }\n",
       "        </script>\n",
       "        "
      ]
     },
     "metadata": {},
     "output_type": "display_data"
    }
   ],
   "source": [
    "import math\n",
    "\n",
    "import cufflinks as cf\n",
    "import matplotlib.pyplot as plt\n",
    "import numpy as np\n",
    "import pandas as pd\n",
    "import seaborn as sns\n",
    "import tensorflow as tf\n",
    "from IPYNBrenderer import render_google_doc\n",
    "\n",
    "cf.go_offline()\n",
    "import warnings\n",
    "\n",
    "warnings.filterwarnings('ignore')"
   ]
  },
  {
   "cell_type": "markdown",
   "metadata": {},
   "source": [
    "# Batch normalization"
   ]
  },
  {
   "cell_type": "markdown",
   "metadata": {},
   "source": [
    "### forward pass \n",
    "step 1\n",
    "$$ \\ μ_B = \\frac{1}{m_B} \\sum_{i=1}^{m_B} \\ x^(i)"
   ]
  },
  {
   "cell_type": "markdown",
   "metadata": {},
   "source": [
    "step2\n",
    "$$ \\ σ_B^2 = \\frac{1}{m_B} \\sum_{i=1}^{m_B} ( \\ x^(i) - μ_B )^2\n"
   ]
  },
  {
   "cell_type": "markdown",
   "metadata": {},
   "source": [
    "step 3\n",
    "$$ \\hat{x}^(i) =\\frac{ x^(i) - μ_B}{\\sqrt{σ_B^2+ \\epsilon}}"
   ]
  },
  {
   "cell_type": "markdown",
   "metadata": {},
   "source": [
    "step 4\n",
    "$$ z^(i) = \\gamma \\cdot \\hat{x}^(i) + \\beta"
   ]
  },
  {
   "cell_type": "code",
   "execution_count": 2,
   "metadata": {},
   "outputs": [],
   "source": [
    "class BatchNormalization:\n",
    "    def __init__(self, gamma=1, beta=0, eps=1e-5):\n",
    "        \"\"\" gamma: scale parameter beta: shift parameter eps: small value for numerical stability \"\"\"\n",
    "        self.gamma = gamma\n",
    "        self.beta = beta\n",
    "        self.eps = eps\n",
    "        self.running_mean = 0\n",
    "        self.running_var = 0\n",
    "        self.batch_mean = 0\n",
    "        self.batch_var = 0\n",
    "        self.batch_size = 0\n",
    "        self.x = 0\n",
    "        self.x_norm = 0\n",
    "\n",
    "    def forward(self, x, is_training=True):\n",
    "        self.batch_size = x.shape[0]\n",
    "        self.x = x\n",
    "        if is_training:\n",
    "            self.batch_mean =  np.mean(x, axis=0)\n",
    "            self.batch_var =  np.var(x, axis=0)\n",
    "            self.running_mean = 0.9 * self.running_mean + 0.1 * self.batch_mean\n",
    "            self.running_var = 0.9 * self.running_var + 0.1 * self.batch_var\n",
    "        else:\n",
    "            self.batch_mean = self.running_mean\n",
    "            self.batch_var = self.running_var\n",
    "        self.x_norm = (x - self.batch_mean) / np.sqrt(self.batch_var + self.eps)\n",
    "        out = self.gamma * self.x_norm + self.beta\n",
    "        return out\n",
    "\n",
    "    def backward(self, dout):\n",
    "        dbeta = np.sum(dout, axis=0)\n",
    "        dgamma = np.sum(self.x_norm * dout, axis=0)\n",
    "        dx_norm = dout * self.gamma\n",
    "        dx = (1. / self.batch_size) * (self.batch_size * dx_norm - np.sum(dx_norm, axis=0) - self.x_norm * np.sum(dx_norm * self.x_norm, axis=0))\n",
    "        return dx, dgamma, dbeta\n"
   ]
  },
  {
   "cell_type": "code",
   "execution_count": 3,
   "metadata": {},
   "outputs": [],
   "source": [
    "X = np.random.random((1000, 100)) # 1000 data points, each with dimension 100"
   ]
  },
  {
   "cell_type": "code",
   "execution_count": 4,
   "metadata": {},
   "outputs": [],
   "source": [
    "\n",
    "model = BatchNormalization()\n",
    "dout = model.forward(X , is_training=True)"
   ]
  },
  {
   "cell_type": "code",
   "execution_count": 5,
   "metadata": {},
   "outputs": [
    {
     "data": {
      "text/plain": [
       "{'gamma': 1,\n",
       " 'beta': 0,\n",
       " 'eps': 1e-05,\n",
       " 'running_mean': array([0.05178427, 0.04964296, 0.05070154, 0.04921042, 0.05087484,\n",
       "        0.05087311, 0.04945032, 0.0505977 , 0.05011531, 0.05060157,\n",
       "        0.04962816, 0.04869402, 0.04962137, 0.05116433, 0.04927181,\n",
       "        0.04986094, 0.04967575, 0.05027837, 0.04952978, 0.04918823,\n",
       "        0.05027932, 0.04928979, 0.0515596 , 0.0504087 , 0.05085139,\n",
       "        0.04965618, 0.04763013, 0.05154271, 0.05012575, 0.05132766,\n",
       "        0.05161985, 0.04981221, 0.05130008, 0.05067616, 0.05027055,\n",
       "        0.05080294, 0.05077977, 0.05047976, 0.04801979, 0.05045796,\n",
       "        0.04932913, 0.04975918, 0.04939003, 0.05119813, 0.04922982,\n",
       "        0.04920437, 0.05145228, 0.05084441, 0.04996796, 0.05072907,\n",
       "        0.048713  , 0.04876115, 0.04968213, 0.05043019, 0.05023057,\n",
       "        0.04835102, 0.0519194 , 0.05027494, 0.05018238, 0.04932045,\n",
       "        0.05166687, 0.0501641 , 0.05042503, 0.05090399, 0.04995153,\n",
       "        0.04897236, 0.05036388, 0.05109891, 0.04929343, 0.04945302,\n",
       "        0.04943336, 0.04868921, 0.05041995, 0.04896251, 0.05036153,\n",
       "        0.05145618, 0.05003049, 0.05151102, 0.0495409 , 0.04835867,\n",
       "        0.04872057, 0.05038806, 0.05109099, 0.04966802, 0.04872669,\n",
       "        0.05168987, 0.04985673, 0.04930057, 0.0507064 , 0.04952921,\n",
       "        0.04889509, 0.04839425, 0.04809971, 0.05210031, 0.05014464,\n",
       "        0.05244856, 0.04958783, 0.04948973, 0.05002031, 0.04957918]),\n",
       " 'running_var': array([0.00811631, 0.0086029 , 0.00803966, 0.00766513, 0.00831295,\n",
       "        0.00805222, 0.0083162 , 0.00812989, 0.00839158, 0.00804125,\n",
       "        0.00802841, 0.00841535, 0.00837046, 0.00853405, 0.00815753,\n",
       "        0.00881186, 0.00840343, 0.00864155, 0.0081819 , 0.00852001,\n",
       "        0.008332  , 0.0083543 , 0.00848545, 0.00851649, 0.00849369,\n",
       "        0.00790878, 0.00787435, 0.00851336, 0.00840408, 0.00792176,\n",
       "        0.00852049, 0.00858582, 0.00836368, 0.00834827, 0.00837915,\n",
       "        0.00817967, 0.00811935, 0.00844499, 0.00810488, 0.0082717 ,\n",
       "        0.00820473, 0.00821628, 0.0080597 , 0.00834734, 0.00847887,\n",
       "        0.00812808, 0.00856148, 0.00850786, 0.00810542, 0.00816252,\n",
       "        0.00829559, 0.00789057, 0.00821712, 0.00821604, 0.00797875,\n",
       "        0.00807357, 0.00827591, 0.00810799, 0.00836553, 0.00849261,\n",
       "        0.00859591, 0.00813849, 0.00826584, 0.00813815, 0.0081111 ,\n",
       "        0.00855465, 0.00856632, 0.00867606, 0.00875871, 0.00823639,\n",
       "        0.00808406, 0.00841479, 0.00800558, 0.00868658, 0.00844848,\n",
       "        0.00778739, 0.00796479, 0.00828564, 0.00848476, 0.00812947,\n",
       "        0.00821808, 0.00825434, 0.00805511, 0.0084152 , 0.00822978,\n",
       "        0.00802277, 0.00824635, 0.00810568, 0.00815569, 0.00804376,\n",
       "        0.00841059, 0.00852177, 0.00817303, 0.00851638, 0.0081244 ,\n",
       "        0.00816772, 0.00842616, 0.00836401, 0.0083983 , 0.0084178 ]),\n",
       " 'batch_mean': array([0.51784268, 0.49642956, 0.50701542, 0.49210421, 0.50874837,\n",
       "        0.50873111, 0.4945032 , 0.50597699, 0.50115314, 0.50601568,\n",
       "        0.4962816 , 0.48694023, 0.49621373, 0.51164329, 0.49271813,\n",
       "        0.49860943, 0.49675753, 0.50278369, 0.49529784, 0.49188227,\n",
       "        0.5027932 , 0.49289791, 0.51559596, 0.50408695, 0.50851391,\n",
       "        0.49656185, 0.47630128, 0.5154271 , 0.50125747, 0.51327657,\n",
       "        0.51619855, 0.49812206, 0.51300076, 0.50676156, 0.50270555,\n",
       "        0.5080294 , 0.50779766, 0.50479763, 0.48019789, 0.50457964,\n",
       "        0.49329132, 0.49759176, 0.49390031, 0.51198133, 0.49229817,\n",
       "        0.49204367, 0.5145228 , 0.50844409, 0.49967964, 0.5072907 ,\n",
       "        0.48713004, 0.48761153, 0.49682134, 0.50430187, 0.50230568,\n",
       "        0.48351018, 0.51919395, 0.50274941, 0.50182383, 0.49320447,\n",
       "        0.51666875, 0.50164096, 0.50425034, 0.50903995, 0.49951526,\n",
       "        0.48972358, 0.50363884, 0.51098906, 0.49293434, 0.49453016,\n",
       "        0.49433362, 0.48689206, 0.50419953, 0.48962514, 0.50361532,\n",
       "        0.51456178, 0.50030488, 0.51511016, 0.49540896, 0.48358674,\n",
       "        0.4872057 , 0.50388065, 0.51090987, 0.49668015, 0.48726687,\n",
       "        0.51689866, 0.49856727, 0.49300574, 0.50706396, 0.49529207,\n",
       "        0.48895086, 0.48394255, 0.48099711, 0.5210031 , 0.50144636,\n",
       "        0.52448565, 0.49587832, 0.49489726, 0.50020308, 0.49579176]),\n",
       " 'batch_var': array([0.08116308, 0.08602904, 0.08039662, 0.07665135, 0.08312946,\n",
       "        0.08052217, 0.08316198, 0.0812989 , 0.08391582, 0.08041246,\n",
       "        0.08028409, 0.08415354, 0.08370465, 0.08534053, 0.08157529,\n",
       "        0.08811855, 0.08403432, 0.08641545, 0.08181898, 0.08520015,\n",
       "        0.08331998, 0.08354301, 0.08485452, 0.08516495, 0.08493695,\n",
       "        0.07908783, 0.07874352, 0.08513356, 0.08404083, 0.0792176 ,\n",
       "        0.08520487, 0.08585815, 0.08363679, 0.08348274, 0.08379153,\n",
       "        0.08179673, 0.08119349, 0.08444988, 0.08104884, 0.082717  ,\n",
       "        0.08204728, 0.08216282, 0.08059696, 0.08347343, 0.08478873,\n",
       "        0.08128077, 0.08561481, 0.08507864, 0.08105423, 0.08162517,\n",
       "        0.08295591, 0.0789057 , 0.0821712 , 0.0821604 , 0.07978745,\n",
       "        0.08073569, 0.08275909, 0.08107994, 0.0836553 , 0.08492609,\n",
       "        0.0859591 , 0.08138487, 0.08265843, 0.08138146, 0.08111105,\n",
       "        0.08554645, 0.08566323, 0.08676056, 0.08758714, 0.08236393,\n",
       "        0.08084063, 0.08414789, 0.08005577, 0.08686583, 0.08448479,\n",
       "        0.07787386, 0.07964795, 0.08285643, 0.08484759, 0.08129471,\n",
       "        0.08218076, 0.08254337, 0.08055114, 0.08415198, 0.08229779,\n",
       "        0.08022773, 0.08246346, 0.08105681, 0.08155687, 0.08043763,\n",
       "        0.08410586, 0.08521772, 0.08173032, 0.08516379, 0.08124398,\n",
       "        0.08167716, 0.0842616 , 0.08364007, 0.08398298, 0.08417804]),\n",
       " 'batch_size': 1000,\n",
       " 'x': array([[0.90003011, 0.57799177, 0.48221518, ..., 0.77498038, 0.77182662,\n",
       "         0.11790173],\n",
       "        [0.89677977, 0.92138906, 0.80437969, ..., 0.93285908, 0.81453306,\n",
       "         0.55698162],\n",
       "        [0.58339559, 0.64232932, 0.9011444 , ..., 0.83056116, 0.38655278,\n",
       "         0.65395012],\n",
       "        ...,\n",
       "        [0.92332302, 0.88773762, 0.94199253, ..., 0.86659766, 0.9492505 ,\n",
       "         0.92583387],\n",
       "        [0.44555815, 0.88549123, 0.6644012 , ..., 0.4934091 , 0.9102009 ,\n",
       "         0.57886931],\n",
       "        [0.54668347, 0.18248027, 0.34679858, ..., 0.16880395, 0.70740925,\n",
       "         0.61714177]]),\n",
       " 'x_norm': array([[ 1.34143736,  0.2780617 , -0.0874601 , ...,  0.96839777,\n",
       "          0.93722942, -1.30238756],\n",
       "        [ 1.33002903,  1.44877105,  1.04867974, ...,  1.51426925,\n",
       "          1.08458679,  0.21088915],\n",
       "        [ 0.23008377,  0.49740115,  1.3899285 , ...,  1.16057038,\n",
       "         -0.39214718,  0.54508842],\n",
       "        ...,\n",
       "        [ 1.42319299,  1.33404661,  1.53398282, ...,  1.28516792,\n",
       "          1.54942553,  1.48212827],\n",
       "        [-0.25371101,  1.32638823,  0.55503399, ..., -0.00514537,\n",
       "          1.41468599,  0.28632449],\n",
       "        [ 0.10122813, -1.07031527, -0.56501797, ..., -1.12747971,\n",
       "          0.7149591 ,  0.41822946]])}"
      ]
     },
     "execution_count": 5,
     "metadata": {},
     "output_type": "execute_result"
    }
   ],
   "source": [
    "model.__dict__"
   ]
  },
  {
   "cell_type": "code",
   "execution_count": 6,
   "metadata": {},
   "outputs": [
    {
     "data": {
      "text/plain": [
       "<matplotlib.legend.Legend at 0x7f2636ef3a90>"
      ]
     },
     "execution_count": 6,
     "metadata": {},
     "output_type": "execute_result"
    },
    {
     "data": {
      "image/png": "[encoded data removed]",
      "text/plain": [
       "<Figure size 640x480 with 1 Axes>"
      ]
     },
     "metadata": {},
     "output_type": "display_data"
    }
   ],
   "source": [
    "sns.distplot(X, label='X' , hist=False)\n",
    "sns.distplot(dout, label='dout' , hist=False)\n",
    "plt.legend( loc='upper right')"
   ]
  },
  {
   "cell_type": "code",
   "execution_count": 7,
   "metadata": {},
   "outputs": [],
   "source": [
    "(X_train_full, y_train_full), (X_test, y_test) = tf.keras.datasets.fashion_mnist.load_data()\n",
    "X_train_full = X_train_full\n",
    "X_test = X_test \n",
    "X_valid, X_train = X_train_full[:5000], X_train_full[5000:]\n",
    "y_valid, y_train = y_train_full[:5000], y_train_full[5000:]\n"
   ]
  },
  {
   "cell_type": "code",
   "execution_count": 8,
   "metadata": {},
   "outputs": [],
   "source": [
    "tf.random.set_seed(42)\n",
    "np.random.seed(42)\n",
    "\n",
    "LAYERS = [ tf.keras.layers.Flatten(input_shape=[28, 28]),\n",
    "    tf.keras.layers.Dense(300, kernel_initializer=\"he_normal\"),\n",
    "    tf.keras.layers.LeakyReLU(),\n",
    "    tf.keras.layers.Dense(100, kernel_initializer=\"he_normal\"),\n",
    "    tf.keras.layers.LeakyReLU(),\n",
    "    tf.keras.layers.Dense(10, activation=\"softmax\")]\n",
    "\n",
    "\n",
    "model = tf.keras.models.Sequential(LAYERS)"
   ]
  },
  {
   "cell_type": "code",
   "execution_count": 9,
   "metadata": {},
   "outputs": [],
   "source": [
    "import time\n",
    "import os\n",
    "\n",
    "def get_log_dir():\n",
    "    root_logdir = os.path.join(os.curdir, \"my_logs\")\n",
    "    run_id = time.strftime(\"run_%Y_%m_%d-%H_%M_%S\")\n",
    "    tensor_path = os.path.join(root_logdir, run_id)\n",
    "    os.makedirs(tensor_path , exist_ok=True)\n",
    "    return tensor_path"
   ]
  },
  {
   "cell_type": "code",
   "execution_count": 10,
   "metadata": {},
   "outputs": [],
   "source": [
    "early_stopping_cb = tf.keras.callbacks.EarlyStopping(patience=5, restore_best_weights=True)\n",
    "tensorboard_cb = tf.keras.callbacks.TensorBoard(get_log_dir())"
   ]
  },
  {
   "cell_type": "code",
   "execution_count": 11,
   "metadata": {},
   "outputs": [],
   "source": [
    "\n",
    "model.compile(loss=\"sparse_categorical_crossentropy\",\n",
    "              optimizer=tf.keras.optimizers.SGD(lr=1e-3),\n",
    "              metrics=[\"accuracy\"])"
   ]
  },
  {
   "cell_type": "code",
   "execution_count": 12,
   "metadata": {},
   "outputs": [
    {
     "data": {
      "image/png": "[encoded data removed]",
      "text/plain": [
       "<IPython.core.display.Image object>"
      ]
     },
     "execution_count": 12,
     "metadata": {},
     "output_type": "execute_result"
    }
   ],
   "source": [
    "tf.keras.utils.plot_model(model, show_shapes=True)"
   ]
  },
  {
   "cell_type": "code",
   "execution_count": 13,
   "metadata": {},
   "outputs": [
    {
     "name": "stdout",
     "output_type": "stream",
     "text": [
      "Model: \"sequential\"\n",
      "_________________________________________________________________\n",
      " Layer (type)                Output Shape              Param #   \n",
      "=================================================================\n",
      " flatten (Flatten)           (None, 784)               0         \n",
      "                                                                 \n",
      " dense (Dense)               (None, 300)               235500    \n",
      "                                                                 \n",
      " leaky_re_lu (LeakyReLU)     (None, 300)               0         \n",
      "                                                                 \n",
      " dense_1 (Dense)             (None, 100)               30100     \n",
      "                                                                 \n",
      " leaky_re_lu_1 (LeakyReLU)   (None, 100)               0         \n",
      "                                                                 \n",
      " dense_2 (Dense)             (None, 10)                1010      \n",
      "                                                                 \n",
      "=================================================================\n",
      "Total params: 266,610\n",
      "Trainable params: 266,610\n",
      "Non-trainable params: 0\n",
      "_________________________________________________________________\n"
     ]
    }
   ],
   "source": [
    "model.summary()"
   ]
  },
  {
   "cell_type": "code",
   "execution_count": 14,
   "metadata": {},
   "outputs": [
    {
     "name": "stdout",
     "output_type": "stream",
     "text": [
      "Epoch 1/30\n",
      "1719/1719 [==============================] - 6s 3ms/step - loss: nan - accuracy: 0.1007 - val_loss: nan - val_accuracy: 0.0914\n",
      "Epoch 2/30\n",
      "1719/1719 [==============================] - 6s 4ms/step - loss: nan - accuracy: 0.1008 - val_loss: nan - val_accuracy: 0.0914\n",
      "Epoch 3/30\n",
      "1719/1719 [==============================] - 16s 9ms/step - loss: nan - accuracy: 0.1008 - val_loss: nan - val_accuracy: 0.0914\n",
      "Epoch 4/30\n",
      "1719/1719 [==============================] - 10s 6ms/step - loss: nan - accuracy: 0.1008 - val_loss: nan - val_accuracy: 0.0914\n",
      "Epoch 5/30\n",
      "1719/1719 [==============================] - 17s 10ms/step - loss: nan - accuracy: 0.1008 - val_loss: nan - val_accuracy: 0.0914\n",
      "CPU times: user 1min 22s, sys: 10.6 s, total: 1min 33s\n",
      "Wall time: 56.4 s\n"
     ]
    }
   ],
   "source": [
    "%%time\n",
    "history = model.fit(X_train, y_train, epochs=30, validation_data=(X_valid, y_valid), callbacks=[early_stopping_cb , tensorboard_cb])"
   ]
  },
  {
   "cell_type": "code",
   "execution_count": 20,
   "metadata": {},
   "outputs": [],
   "source": [
    "LAYERS = [ tf.keras.layers.Flatten(input_shape=[28, 28]),\n",
    "    tf.keras.layers.BatchNormalization(),\n",
    "    tf.keras.layers.Dense(300, kernel_initializer=\"he_normal\"),\n",
    "    tf.keras.layers.LeakyReLU(),\n",
    "    tf.keras.layers.BatchNormalization(),\n",
    "    tf.keras.layers.Dense(100, kernel_initializer=\"he_normal\"),\n",
    "    tf.keras.layers.LeakyReLU(),\n",
    "    \n",
    "    tf.keras.layers.Dense(10, activation=\"softmax\")]\n",
    "early_stopping_cb = tf.keras.callbacks.EarlyStopping(patience=2,mode=\"min\" ,monitor='val_loss',restore_best_weights=True)\n",
    "tensorboard_cb = tf.keras.callbacks.TensorBoard(get_log_dir())\n",
    "\n",
    "model_batch = tf.keras.models.Sequential(LAYERS)"
   ]
  },
  {
   "cell_type": "code",
   "execution_count": 22,
   "metadata": {},
   "outputs": [],
   "source": [
    "model_batch.compile(loss=\"sparse_categorical_crossentropy\",\n",
    "              optimizer=tf.keras.optimizers.SGD(lr=1e-3),\n",
    "              metrics=[\"accuracy\"] )"
   ]
  },
  {
   "cell_type": "code",
   "execution_count": 23,
   "metadata": {},
   "outputs": [
    {
     "name": "stdout",
     "output_type": "stream",
     "text": [
      "Epoch 1/30\n",
      "1719/1719 [==============================] - 10s 5ms/step - loss: 0.8755 - accuracy: 0.7071 - val_loss: 0.5982 - val_accuracy: 0.7964\n",
      "Epoch 2/30\n",
      "1719/1719 [==============================] - 11s 7ms/step - loss: 0.5990 - accuracy: 0.7908 - val_loss: 0.5327 - val_accuracy: 0.8230\n",
      "Epoch 3/30\n",
      "1719/1719 [==============================] - 19s 11ms/step - loss: 0.5453 - accuracy: 0.8091 - val_loss: 0.5382 - val_accuracy: 0.8336\n",
      "Epoch 4/30\n",
      "1719/1719 [==============================] - 25s 14ms/step - loss: 0.5105 - accuracy: 0.8199 - val_loss: 0.5018 - val_accuracy: 0.8412\n",
      "Epoch 5/30\n",
      "1719/1719 [==============================] - 27s 16ms/step - loss: 0.4888 - accuracy: 0.8253 - val_loss: 0.4531 - val_accuracy: 0.8486\n",
      "Epoch 6/30\n",
      "1719/1719 [==============================] - 25s 14ms/step - loss: 0.4727 - accuracy: 0.8325 - val_loss: 0.4510 - val_accuracy: 0.8506\n",
      "Epoch 7/30\n",
      "1719/1719 [==============================] - 26s 15ms/step - loss: 0.4596 - accuracy: 0.8363 - val_loss: 0.4348 - val_accuracy: 0.8540\n",
      "Epoch 8/30\n",
      "1719/1719 [==============================] - 13s 8ms/step - loss: 0.4483 - accuracy: 0.8405 - val_loss: 0.4356 - val_accuracy: 0.8564\n",
      "Epoch 9/30\n",
      "1719/1719 [==============================] - 13s 7ms/step - loss: 0.4366 - accuracy: 0.8434 - val_loss: 0.4565 - val_accuracy: 0.8574\n",
      "Epoch 1/30\n",
      "1719/1719 [==============================] - 5s 3ms/step - loss: 0.4477 - accuracy: 0.8405 - val_loss: 0.4212 - val_accuracy: 0.8562\n",
      "Epoch 2/30\n",
      "1719/1719 [==============================] - 24s 14ms/step - loss: 0.4364 - accuracy: 0.8450 - val_loss: 0.4246 - val_accuracy: 0.8590\n",
      "Epoch 3/30\n",
      "1719/1719 [==============================] - 24s 14ms/step - loss: 0.4313 - accuracy: 0.8467 - val_loss: 0.4639 - val_accuracy: 0.8588\n",
      "Epoch 1/30\n",
      "1719/1719 [==============================] - 25s 14ms/step - loss: 0.4367 - accuracy: 0.8445 - val_loss: 0.4149 - val_accuracy: 0.8578\n",
      "Epoch 2/30\n",
      "1719/1719 [==============================] - 25s 14ms/step - loss: 0.4282 - accuracy: 0.8470 - val_loss: 0.4191 - val_accuracy: 0.8610\n",
      "Epoch 3/30\n",
      "1719/1719 [==============================] - 25s 14ms/step - loss: 0.4239 - accuracy: 0.8491 - val_loss: 0.4596 - val_accuracy: 0.8606\n",
      "Epoch 1/30\n",
      "1719/1719 [==============================] - 25s 14ms/step - loss: 0.4272 - accuracy: 0.8476 - val_loss: 0.4094 - val_accuracy: 0.8594\n",
      "Epoch 2/30\n",
      "1719/1719 [==============================] - 25s 14ms/step - loss: 0.4210 - accuracy: 0.8493 - val_loss: 0.4144 - val_accuracy: 0.8630\n",
      "Epoch 3/30\n",
      "1719/1719 [==============================] - 25s 14ms/step - loss: 0.4174 - accuracy: 0.8514 - val_loss: 0.4558 - val_accuracy: 0.8624\n",
      "Epoch 1/30\n",
      "1719/1719 [==============================] - 23s 14ms/step - loss: 0.4187 - accuracy: 0.8508 - val_loss: 0.4046 - val_accuracy: 0.8612\n",
      "Epoch 2/30\n",
      "1719/1719 [==============================] - 18s 11ms/step - loss: 0.4146 - accuracy: 0.8520 - val_loss: 0.4103 - val_accuracy: 0.8642\n",
      "Epoch 3/30\n",
      "1719/1719 [==============================] - 25s 14ms/step - loss: 0.4115 - accuracy: 0.8532 - val_loss: 0.4525 - val_accuracy: 0.8642\n",
      "Epoch 1/30\n",
      "1719/1719 [==============================] - 24s 14ms/step - loss: 0.4111 - accuracy: 0.8535 - val_loss: 0.4004 - val_accuracy: 0.8618\n",
      "Epoch 2/30\n",
      "1719/1719 [==============================] - 24s 14ms/step - loss: 0.4087 - accuracy: 0.8539 - val_loss: 0.4066 - val_accuracy: 0.8636\n",
      "Epoch 3/30\n",
      "1719/1719 [==============================] - 28s 16ms/step - loss: 0.4061 - accuracy: 0.8549 - val_loss: 0.4497 - val_accuracy: 0.8654\n",
      "Epoch 1/30\n",
      "1719/1719 [==============================] - 21s 12ms/step - loss: 0.4041 - accuracy: 0.8562 - val_loss: 0.3967 - val_accuracy: 0.8632\n",
      "Epoch 2/30\n",
      "1719/1719 [==============================] - 27s 16ms/step - loss: 0.4033 - accuracy: 0.8560 - val_loss: 0.4034 - val_accuracy: 0.8644\n",
      "Epoch 3/30\n",
      "1719/1719 [==============================] - 27s 16ms/step - loss: 0.4011 - accuracy: 0.8563 - val_loss: 0.4471 - val_accuracy: 0.8656\n",
      "Epoch 1/30\n",
      "1719/1719 [==============================] - 28s 16ms/step - loss: 0.3977 - accuracy: 0.8585 - val_loss: 0.3933 - val_accuracy: 0.8640\n",
      "Epoch 2/30\n",
      "1719/1719 [==============================] - 28s 16ms/step - loss: 0.3984 - accuracy: 0.8579 - val_loss: 0.4004 - val_accuracy: 0.8652\n",
      "Epoch 3/30\n",
      "1719/1719 [==============================] - 22s 13ms/step - loss: 0.3965 - accuracy: 0.8579 - val_loss: 0.4449 - val_accuracy: 0.8668\n",
      "1min 11s ± 8.07 s per loop (mean ± std. dev. of 7 runs, 1 loop each)\n"
     ]
    }
   ],
   "source": [
    "%%timeit\n",
    "model_batch.fit(X_train, y_train, epochs=30, validation_data=(X_valid, y_valid), callbacks=[early_stopping_cb , tensorboard_cb])"
   ]
  },
  {
   "cell_type": "markdown",
   "metadata": {},
   "source": [
    "#### we didnt normalize the inputs  the  model with batch normalization gives accurracy  87 vs 10 for without  "
   ]
  },
  {
   "cell_type": "markdown",
   "metadata": {},
   "source": [
    "#### with batch initialization we get a val loss 0.603 in the initial epochs .a after 30 epochs 0.35"
   ]
  },
  {
   "cell_type": "markdown",
   "metadata": {},
   "source": [
    "# lets normalize the input data"
   ]
  },
  {
   "cell_type": "code",
   "execution_count": null,
   "metadata": {},
   "outputs": [],
   "source": [
    "X_train_full = X_train_full / 255.0\n",
    "X_test = X_test / 255.0\n",
    "X_valid, X_train = X_train_full[:5000], X_train_full[5000:]\n",
    "y_valid, y_train = y_train_full[:5000], y_train_full[5000:]"
   ]
  },
  {
   "cell_type": "code",
   "execution_count": 24,
   "metadata": {},
   "outputs": [
    {
     "name": "stdout",
     "output_type": "stream",
     "text": [
      "Epoch 1/30\n",
      "1719/1719 [==============================] - 4s 2ms/step - loss: 6.4354 - accuracy: 0.6244 - val_loss: 1.0608 - val_accuracy: 0.6678\n",
      "Epoch 2/30\n",
      "1719/1719 [==============================] - 14s 8ms/step - loss: 0.8755 - accuracy: 0.6866 - val_loss: 0.8416 - val_accuracy: 0.7160\n",
      "Epoch 3/30\n",
      "1719/1719 [==============================] - 18s 10ms/step - loss: 0.7546 - accuracy: 0.7062 - val_loss: 0.7898 - val_accuracy: 0.6996\n",
      "Epoch 4/30\n",
      "1719/1719 [==============================] - 19s 11ms/step - loss: 0.7063 - accuracy: 0.7158 - val_loss: 0.7285 - val_accuracy: 0.7018\n",
      "Epoch 5/30\n",
      "1719/1719 [==============================] - 11s 6ms/step - loss: 0.6700 - accuracy: 0.7241 - val_loss: 0.7010 - val_accuracy: 0.7384\n",
      "Epoch 6/30\n",
      "1719/1719 [==============================] - 12s 7ms/step - loss: 0.6443 - accuracy: 0.7296 - val_loss: 0.6932 - val_accuracy: 0.7460\n",
      "Epoch 7/30\n",
      "1719/1719 [==============================] - 11s 6ms/step - loss: 0.6266 - accuracy: 0.7337 - val_loss: 0.6795 - val_accuracy: 0.7478\n",
      "Epoch 8/30\n",
      "1719/1719 [==============================] - 3s 2ms/step - loss: 0.6051 - accuracy: 0.7410 - val_loss: 0.7059 - val_accuracy: 0.7350\n",
      "Epoch 9/30\n",
      "1719/1719 [==============================] - 14s 8ms/step - loss: 0.5946 - accuracy: 0.7442 - val_loss: 0.7183 - val_accuracy: 0.7224\n",
      "Epoch 1/30\n",
      "1719/1719 [==============================] - 3s 2ms/step - loss: 4.3728 - accuracy: 0.5996 - val_loss: 1.1838 - val_accuracy: 0.6746\n",
      "Epoch 2/30\n",
      "1719/1719 [==============================] - 16s 10ms/step - loss: 0.8865 - accuracy: 0.6750 - val_loss: 0.8409 - val_accuracy: 0.6884\n",
      "Epoch 3/30\n",
      "1719/1719 [==============================] - 13s 7ms/step - loss: 0.7780 - accuracy: 0.7089 - val_loss: 1.1129 - val_accuracy: 0.6876\n",
      "Epoch 4/30\n",
      "1719/1719 [==============================] - 16s 9ms/step - loss: 0.6862 - accuracy: 0.7386 - val_loss: 0.7338 - val_accuracy: 0.7038\n",
      "Epoch 5/30\n",
      "1719/1719 [==============================] - 18s 11ms/step - loss: 0.6283 - accuracy: 0.7603 - val_loss: 0.7132 - val_accuracy: 0.7436\n",
      "Epoch 6/30\n",
      "1719/1719 [==============================] - 16s 10ms/step - loss: 0.6002 - accuracy: 0.7703 - val_loss: 0.6374 - val_accuracy: 0.7808\n",
      "Epoch 7/30\n",
      "1719/1719 [==============================] - 17s 10ms/step - loss: 0.5746 - accuracy: 0.7827 - val_loss: 0.6305 - val_accuracy: 0.7956\n",
      "Epoch 8/30\n",
      "1719/1719 [==============================] - 18s 11ms/step - loss: 0.5552 - accuracy: 0.7900 - val_loss: 0.7163 - val_accuracy: 0.7600\n",
      "Epoch 9/30\n",
      "1719/1719 [==============================] - 20s 12ms/step - loss: 0.5367 - accuracy: 0.7975 - val_loss: 0.6814 - val_accuracy: 0.7432\n",
      "Epoch 1/30\n",
      "1719/1719 [==============================] - 3s 2ms/step - loss: 7.1738 - accuracy: 0.5558 - val_loss: 1.0485 - val_accuracy: 0.6084\n",
      "Epoch 2/30\n",
      "1719/1719 [==============================] - 17s 10ms/step - loss: 1.0002 - accuracy: 0.6134 - val_loss: 0.9079 - val_accuracy: 0.6628\n",
      "Epoch 3/30\n",
      "1719/1719 [==============================] - 15s 9ms/step - loss: 0.9026 - accuracy: 0.6465 - val_loss: 1.0358 - val_accuracy: 0.6588\n",
      "Epoch 4/30\n",
      "1719/1719 [==============================] - 22s 13ms/step - loss: 0.8445 - accuracy: 0.6672 - val_loss: 0.8310 - val_accuracy: 0.7048\n",
      "Epoch 5/30\n",
      "1719/1719 [==============================] - 21s 12ms/step - loss: 0.7863 - accuracy: 0.6907 - val_loss: 0.7793 - val_accuracy: 0.7170\n",
      "Epoch 6/30\n",
      "1719/1719 [==============================] - 21s 12ms/step - loss: 0.7433 - accuracy: 0.7112 - val_loss: 0.7501 - val_accuracy: 0.7288\n",
      "Epoch 7/30\n",
      "1719/1719 [==============================] - 10s 6ms/step - loss: 0.7129 - accuracy: 0.7280 - val_loss: 0.7316 - val_accuracy: 0.7258\n",
      "Epoch 8/30\n",
      "1719/1719 [==============================] - 15s 9ms/step - loss: 0.6726 - accuracy: 0.7466 - val_loss: 0.8694 - val_accuracy: 0.7326\n",
      "Epoch 9/30\n",
      "1719/1719 [==============================] - 21s 12ms/step - loss: 0.6409 - accuracy: 0.7591 - val_loss: 0.6737 - val_accuracy: 0.7700\n",
      "Epoch 10/30\n",
      "1719/1719 [==============================] - 10s 6ms/step - loss: 0.6100 - accuracy: 0.7683 - val_loss: 0.6484 - val_accuracy: 0.7598\n",
      "Epoch 11/30\n",
      "1719/1719 [==============================] - 8s 5ms/step - loss: 0.5913 - accuracy: 0.7768 - val_loss: 0.6522 - val_accuracy: 0.7660\n",
      "Epoch 12/30\n",
      "1719/1719 [==============================] - 19s 11ms/step - loss: 0.5760 - accuracy: 0.7803 - val_loss: 0.6410 - val_accuracy: 0.7814\n",
      "Epoch 13/30\n",
      "1719/1719 [==============================] - 21s 12ms/step - loss: 0.5681 - accuracy: 0.7797 - val_loss: 0.6486 - val_accuracy: 0.7768\n",
      "Epoch 14/30\n",
      "1719/1719 [==============================] - 21s 12ms/step - loss: 0.5539 - accuracy: 0.7871 - val_loss: 0.6906 - val_accuracy: 0.7434\n",
      "Epoch 1/30\n",
      "1719/1719 [==============================] - 4s 2ms/step - loss: 5.1767 - accuracy: 0.6514 - val_loss: 1.0306 - val_accuracy: 0.6610\n",
      "Epoch 2/30\n",
      "1719/1719 [==============================] - 19s 11ms/step - loss: 0.7780 - accuracy: 0.7132 - val_loss: 0.7233 - val_accuracy: 0.7334\n",
      "Epoch 3/30\n",
      "1719/1719 [==============================] - 13s 7ms/step - loss: 0.6619 - accuracy: 0.7454 - val_loss: 0.7606 - val_accuracy: 0.7274\n",
      "Epoch 4/30\n",
      "1719/1719 [==============================] - 20s 12ms/step - loss: 0.5966 - accuracy: 0.7714 - val_loss: 0.6243 - val_accuracy: 0.7522\n",
      "Epoch 5/30\n",
      "1719/1719 [==============================] - 17s 10ms/step - loss: 0.5611 - accuracy: 0.7820 - val_loss: 0.6232 - val_accuracy: 0.7794\n",
      "Epoch 6/30\n",
      "1719/1719 [==============================] - 13s 7ms/step - loss: 0.5378 - accuracy: 0.7908 - val_loss: 0.5744 - val_accuracy: 0.7984\n",
      "Epoch 7/30\n",
      "1719/1719 [==============================] - 21s 12ms/step - loss: 0.5171 - accuracy: 0.7960 - val_loss: 0.5728 - val_accuracy: 0.8080\n",
      "Epoch 8/30\n",
      "1719/1719 [==============================] - 19s 11ms/step - loss: 0.5040 - accuracy: 0.8013 - val_loss: 0.5890 - val_accuracy: 0.7948\n",
      "Epoch 9/30\n",
      "1719/1719 [==============================] - 17s 10ms/step - loss: 0.4948 - accuracy: 0.8059 - val_loss: 0.6070 - val_accuracy: 0.7602\n",
      "Epoch 1/30\n",
      "1719/1719 [==============================] - 4s 2ms/step - loss: 9.0196 - accuracy: 0.5447 - val_loss: 1.2508 - val_accuracy: 0.5828\n",
      "Epoch 2/30\n",
      "1719/1719 [==============================] - 6s 4ms/step - loss: 0.9869 - accuracy: 0.6481 - val_loss: 0.8563 - val_accuracy: 0.6844\n",
      "Epoch 3/30\n",
      "1719/1719 [==============================] - 12s 7ms/step - loss: 0.8431 - accuracy: 0.6805 - val_loss: 1.0021 - val_accuracy: 0.6858\n",
      "Epoch 4/30\n",
      "1719/1719 [==============================] - 18s 10ms/step - loss: 0.7998 - accuracy: 0.6937 - val_loss: 0.7872 - val_accuracy: 0.6998\n",
      "Epoch 5/30\n",
      "1719/1719 [==============================] - 10s 6ms/step - loss: 0.7497 - accuracy: 0.7056 - val_loss: 0.8137 - val_accuracy: 0.6950\n",
      "Epoch 6/30\n",
      "1719/1719 [==============================] - 21s 12ms/step - loss: 0.7242 - accuracy: 0.7117 - val_loss: 0.6991 - val_accuracy: 0.7374\n",
      "Epoch 7/30\n",
      "1719/1719 [==============================] - 21s 12ms/step - loss: 0.7003 - accuracy: 0.7199 - val_loss: 0.7143 - val_accuracy: 0.7410\n",
      "Epoch 8/30\n",
      "1719/1719 [==============================] - 21s 12ms/step - loss: 0.6808 - accuracy: 0.7334 - val_loss: 0.7901 - val_accuracy: 0.7062\n",
      "Epoch 1/30\n",
      "1719/1719 [==============================] - 3s 2ms/step - loss: 4.4345 - accuracy: 0.6912 - val_loss: 0.7864 - val_accuracy: 0.7258\n",
      "Epoch 2/30\n",
      "1719/1719 [==============================] - 16s 9ms/step - loss: 0.6241 - accuracy: 0.7769 - val_loss: 0.5762 - val_accuracy: 0.7994\n",
      "Epoch 3/30\n",
      "1719/1719 [==============================] - 21s 12ms/step - loss: 0.5368 - accuracy: 0.8032 - val_loss: 0.5912 - val_accuracy: 0.7976\n",
      "Epoch 4/30\n",
      "1719/1719 [==============================] - 13s 8ms/step - loss: 0.4863 - accuracy: 0.8187 - val_loss: 0.5219 - val_accuracy: 0.8168\n",
      "Epoch 5/30\n",
      "1719/1719 [==============================] - 20s 12ms/step - loss: 0.4561 - accuracy: 0.8315 - val_loss: 0.5318 - val_accuracy: 0.8260\n",
      "Epoch 6/30\n",
      "1719/1719 [==============================] - 19s 11ms/step - loss: 0.4321 - accuracy: 0.8405 - val_loss: 0.4796 - val_accuracy: 0.8380\n",
      "Epoch 7/30\n",
      "1719/1719 [==============================] - 21s 12ms/step - loss: 0.4144 - accuracy: 0.8451 - val_loss: 0.4668 - val_accuracy: 0.8400\n",
      "Epoch 8/30\n",
      "1719/1719 [==============================] - 21s 12ms/step - loss: 0.4014 - accuracy: 0.8504 - val_loss: 0.4739 - val_accuracy: 0.8342\n",
      "Epoch 9/30\n",
      "1719/1719 [==============================] - 21s 12ms/step - loss: 0.3888 - accuracy: 0.8553 - val_loss: 0.4550 - val_accuracy: 0.8494\n",
      "Epoch 10/30\n",
      "1719/1719 [==============================] - 20s 12ms/step - loss: 0.3790 - accuracy: 0.8576 - val_loss: 0.4611 - val_accuracy: 0.8400\n",
      "Epoch 11/30\n",
      "1719/1719 [==============================] - 21s 12ms/step - loss: 0.3683 - accuracy: 0.8626 - val_loss: 0.4435 - val_accuracy: 0.8558\n",
      "Epoch 12/30\n",
      "1719/1719 [==============================] - 21s 12ms/step - loss: 0.3600 - accuracy: 0.8662 - val_loss: 0.4325 - val_accuracy: 0.8528\n",
      "Epoch 13/30\n",
      "1719/1719 [==============================] - 21s 12ms/step - loss: 0.3535 - accuracy: 0.8679 - val_loss: 0.4439 - val_accuracy: 0.8556\n",
      "Epoch 14/30\n",
      "1719/1719 [==============================] - 21s 12ms/step - loss: 0.3465 - accuracy: 0.8715 - val_loss: 0.4606 - val_accuracy: 0.8466\n",
      "Epoch 1/30\n",
      "1719/1719 [==============================] - 3s 2ms/step - loss: 7.9892 - accuracy: 0.4431 - val_loss: 1.4510 - val_accuracy: 0.4780\n",
      "Epoch 2/30\n",
      "1719/1719 [==============================] - 20s 12ms/step - loss: 1.2827 - accuracy: 0.5210 - val_loss: 1.2452 - val_accuracy: 0.5594\n",
      "Epoch 3/30\n",
      "1719/1719 [==============================] - 19s 11ms/step - loss: 1.1097 - accuracy: 0.5846 - val_loss: 1.2057 - val_accuracy: 0.5856\n",
      "Epoch 4/30\n",
      "1719/1719 [==============================] - 18s 10ms/step - loss: 1.0427 - accuracy: 0.6030 - val_loss: 1.0471 - val_accuracy: 0.5748\n",
      "Epoch 5/30\n",
      "1719/1719 [==============================] - 14s 8ms/step - loss: 0.9929 - accuracy: 0.6144 - val_loss: 1.0059 - val_accuracy: 0.6060\n",
      "Epoch 6/30\n",
      "1719/1719 [==============================] - 21s 12ms/step - loss: 0.9641 - accuracy: 0.6217 - val_loss: 0.9420 - val_accuracy: 0.6348\n",
      "Epoch 7/30\n",
      "1719/1719 [==============================] - 19s 11ms/step - loss: 0.9354 - accuracy: 0.6259 - val_loss: 0.9016 - val_accuracy: 0.6396\n",
      "Epoch 8/30\n",
      "1719/1719 [==============================] - 19s 11ms/step - loss: 0.9004 - accuracy: 0.6343 - val_loss: 0.8733 - val_accuracy: 0.6314\n",
      "Epoch 9/30\n",
      "1719/1719 [==============================] - 21s 12ms/step - loss: 0.8773 - accuracy: 0.6394 - val_loss: 0.8885 - val_accuracy: 0.6382\n",
      "Epoch 10/30\n",
      "1719/1719 [==============================] - 21s 12ms/step - loss: 0.7913 - accuracy: 0.6943 - val_loss: 0.9931 - val_accuracy: 0.7190\n",
      "Epoch 1/30\n",
      "1719/1719 [==============================] - 3s 2ms/step - loss: 4.8051 - accuracy: 0.6453 - val_loss: 1.1187 - val_accuracy: 0.6508\n",
      "Epoch 2/30\n",
      "1719/1719 [==============================] - 17s 10ms/step - loss: 0.7828 - accuracy: 0.7015 - val_loss: 0.7988 - val_accuracy: 0.7176\n",
      "Epoch 3/30\n",
      "1719/1719 [==============================] - 19s 11ms/step - loss: 0.6954 - accuracy: 0.7183 - val_loss: 0.7438 - val_accuracy: 0.7018\n",
      "Epoch 4/30\n",
      "1719/1719 [==============================] - 12s 7ms/step - loss: 0.6537 - accuracy: 0.7255 - val_loss: 0.7041 - val_accuracy: 0.7076\n",
      "Epoch 5/30\n",
      "1719/1719 [==============================] - 13s 8ms/step - loss: 0.6197 - accuracy: 0.7353 - val_loss: 0.6935 - val_accuracy: 0.7504\n",
      "Epoch 6/30\n",
      "1719/1719 [==============================] - 11s 7ms/step - loss: 0.5969 - accuracy: 0.7419 - val_loss: 0.6916 - val_accuracy: 0.7536\n",
      "Epoch 7/30\n",
      "1719/1719 [==============================] - 22s 13ms/step - loss: 0.5754 - accuracy: 0.7515 - val_loss: 0.6414 - val_accuracy: 0.7540\n",
      "Epoch 8/30\n",
      "1719/1719 [==============================] - 20s 11ms/step - loss: 0.5608 - accuracy: 0.7561 - val_loss: 0.6662 - val_accuracy: 0.7398\n",
      "Epoch 9/30\n",
      "1719/1719 [==============================] - 21s 12ms/step - loss: 0.5329 - accuracy: 0.7818 - val_loss: 0.6363 - val_accuracy: 0.7316\n",
      "Epoch 10/30\n",
      "1719/1719 [==============================] - 22s 13ms/step - loss: 0.5114 - accuracy: 0.7949 - val_loss: 0.5945 - val_accuracy: 0.8002\n",
      "Epoch 11/30\n",
      "1719/1719 [==============================] - 21s 12ms/step - loss: 0.4951 - accuracy: 0.8024 - val_loss: 0.6049 - val_accuracy: 0.8036\n",
      "Epoch 12/30\n",
      "1719/1719 [==============================] - 18s 10ms/step - loss: 0.4832 - accuracy: 0.8095 - val_loss: 0.5650 - val_accuracy: 0.8118\n",
      "Epoch 13/30\n",
      "1719/1719 [==============================] - 22s 13ms/step - loss: 0.4725 - accuracy: 0.8149 - val_loss: 0.5650 - val_accuracy: 0.8062\n",
      "Epoch 14/30\n",
      "1719/1719 [==============================] - 20s 12ms/step - loss: 0.4630 - accuracy: 0.8207 - val_loss: 0.5757 - val_accuracy: 0.8134\n",
      "Epoch 15/30\n",
      "1719/1719 [==============================] - 22s 13ms/step - loss: 0.4527 - accuracy: 0.8217 - val_loss: 0.5632 - val_accuracy: 0.8104\n",
      "Epoch 16/30\n",
      "1719/1719 [==============================] - 21s 12ms/step - loss: 0.4464 - accuracy: 0.8243 - val_loss: 0.5484 - val_accuracy: 0.8184\n",
      "Epoch 17/30\n",
      "1719/1719 [==============================] - 22s 13ms/step - loss: 0.4415 - accuracy: 0.8260 - val_loss: 0.6003 - val_accuracy: 0.8152\n",
      "Epoch 18/30\n",
      "1719/1719 [==============================] - 21s 12ms/step - loss: 0.4368 - accuracy: 0.8283 - val_loss: 0.5551 - val_accuracy: 0.8184\n",
      "3min 17s ± 1min 11s per loop (mean ± std. dev. of 7 runs, 1 loop each)\n"
     ]
    }
   ],
   "source": [
    "%%timeit\n",
    "tf.random.set_seed(42)\n",
    "np.random.seed(42)\n",
    "\n",
    "LAYERS = [ tf.keras.layers.Flatten(input_shape=[28, 28]),\n",
    "    tf.keras.layers.Dense(300, activation='selu' , kernel_initializer=\"he_normal\"),\n",
    "    tf.keras.layers.Dense(100, activation='selu' , kernel_initializer=\"he_normal\"),\n",
    "    tf.keras.layers.Dense(10, activation=\"softmax\")]\n",
    "\n",
    "\n",
    "model_normalized = tf.keras.models.Sequential(LAYERS)\n",
    "early_stopping_cb = tf.keras.callbacks.EarlyStopping(patience=2,mode=\"min\" ,monitor='val_loss',restore_best_weights=True)\n",
    "tensorboard_cb = tf.keras.callbacks.TensorBoard(get_log_dir())\n",
    "model_normalized.compile(loss=\"sparse_categorical_crossentropy\", optimizer=tf.keras.optimizers.SGD(lr=1e-3), metrics=[\"accuracy\"])\n",
    "model_normalized.fit(X_train, y_train, epochs=30, validation_data=(X_valid, y_valid), callbacks=[early_stopping_cb])\n"
   ]
  },
  {
   "cell_type": "code",
   "execution_count": 25,
   "metadata": {},
   "outputs": [
    {
     "name": "stdout",
     "output_type": "stream",
     "text": [
      "Epoch 1/30\n",
      "1719/1719 [==============================] - 11s 6ms/step - loss: 0.8767 - accuracy: 0.7045 - val_loss: 0.5995 - val_accuracy: 0.7942\n",
      "Epoch 2/30\n",
      "1719/1719 [==============================] - 24s 14ms/step - loss: 0.5902 - accuracy: 0.7928 - val_loss: 0.5337 - val_accuracy: 0.8228\n",
      "Epoch 3/30\n",
      "1719/1719 [==============================] - 15s 9ms/step - loss: 0.5355 - accuracy: 0.8126 - val_loss: 0.5286 - val_accuracy: 0.8354\n",
      "Epoch 4/30\n",
      "1719/1719 [==============================] - 26s 15ms/step - loss: 0.5010 - accuracy: 0.8242 - val_loss: 0.4991 - val_accuracy: 0.8412\n",
      "Epoch 5/30\n",
      "1719/1719 [==============================] - 26s 15ms/step - loss: 0.4795 - accuracy: 0.8315 - val_loss: 0.4504 - val_accuracy: 0.8492\n",
      "Epoch 6/30\n",
      "1719/1719 [==============================] - 25s 15ms/step - loss: 0.4649 - accuracy: 0.8371 - val_loss: 0.4454 - val_accuracy: 0.8520\n",
      "Epoch 7/30\n",
      "1719/1719 [==============================] - 24s 14ms/step - loss: 0.4526 - accuracy: 0.8416 - val_loss: 0.4294 - val_accuracy: 0.8536\n",
      "Epoch 8/30\n",
      "1719/1719 [==============================] - 25s 15ms/step - loss: 0.4416 - accuracy: 0.8446 - val_loss: 0.4349 - val_accuracy: 0.8556\n",
      "Epoch 9/30\n",
      "1719/1719 [==============================] - 25s 15ms/step - loss: 0.4320 - accuracy: 0.8479 - val_loss: 0.4552 - val_accuracy: 0.8574\n",
      "Epoch 1/30\n",
      "1719/1719 [==============================] - 14s 8ms/step - loss: 0.8919 - accuracy: 0.7033 - val_loss: 0.5977 - val_accuracy: 0.8070\n",
      "Epoch 2/30\n",
      "1719/1719 [==============================] - 26s 15ms/step - loss: 0.5948 - accuracy: 0.7948 - val_loss: 0.5299 - val_accuracy: 0.8318\n",
      "Epoch 3/30\n",
      "1719/1719 [==============================] - 23s 14ms/step - loss: 0.5387 - accuracy: 0.8119 - val_loss: 0.5306 - val_accuracy: 0.8422\n",
      "Epoch 4/30\n",
      "1719/1719 [==============================] - 26s 15ms/step - loss: 0.5019 - accuracy: 0.8253 - val_loss: 0.4814 - val_accuracy: 0.8474\n",
      "Epoch 5/30\n",
      "1719/1719 [==============================] - 25s 14ms/step - loss: 0.4782 - accuracy: 0.8316 - val_loss: 0.4424 - val_accuracy: 0.8522\n",
      "Epoch 6/30\n",
      "1719/1719 [==============================] - 25s 15ms/step - loss: 0.4649 - accuracy: 0.8365 - val_loss: 0.4425 - val_accuracy: 0.8564\n",
      "Epoch 7/30\n",
      "1719/1719 [==============================] - 25s 15ms/step - loss: 0.4508 - accuracy: 0.8415 - val_loss: 0.4219 - val_accuracy: 0.8588\n",
      "Epoch 8/30\n",
      "1719/1719 [==============================] - 24s 14ms/step - loss: 0.4407 - accuracy: 0.8439 - val_loss: 0.4221 - val_accuracy: 0.8626\n",
      "Epoch 9/30\n",
      "1719/1719 [==============================] - 25s 15ms/step - loss: 0.4310 - accuracy: 0.8478 - val_loss: 0.4379 - val_accuracy: 0.8644\n",
      "Epoch 1/30\n",
      "1719/1719 [==============================] - 9s 5ms/step - loss: 0.9089 - accuracy: 0.6942 - val_loss: 0.6152 - val_accuracy: 0.7946\n",
      "Epoch 2/30\n",
      "1719/1719 [==============================] - 19s 11ms/step - loss: 0.5938 - accuracy: 0.7937 - val_loss: 0.5547 - val_accuracy: 0.8218\n",
      "Epoch 3/30\n",
      "1719/1719 [==============================] - 14s 8ms/step - loss: 0.5377 - accuracy: 0.8126 - val_loss: 0.5575 - val_accuracy: 0.8318\n",
      "Epoch 4/30\n",
      "1719/1719 [==============================] - 24s 14ms/step - loss: 0.5029 - accuracy: 0.8233 - val_loss: 0.5229 - val_accuracy: 0.8416\n",
      "Epoch 5/30\n",
      "1719/1719 [==============================] - 16s 9ms/step - loss: 0.4778 - accuracy: 0.8327 - val_loss: 0.4686 - val_accuracy: 0.8452\n",
      "Epoch 6/30\n",
      "1719/1719 [==============================] - 24s 14ms/step - loss: 0.4634 - accuracy: 0.8365 - val_loss: 0.4677 - val_accuracy: 0.8516\n",
      "Epoch 7/30\n",
      "1719/1719 [==============================] - 24s 14ms/step - loss: 0.4511 - accuracy: 0.8425 - val_loss: 0.4457 - val_accuracy: 0.8548\n",
      "Epoch 8/30\n",
      "1719/1719 [==============================] - 24s 14ms/step - loss: 0.4409 - accuracy: 0.8439 - val_loss: 0.4582 - val_accuracy: 0.8574\n",
      "Epoch 9/30\n",
      "1719/1719 [==============================] - 24s 14ms/step - loss: 0.4313 - accuracy: 0.8481 - val_loss: 0.4821 - val_accuracy: 0.8596\n",
      "Epoch 1/30\n",
      "1719/1719 [==============================] - 8s 4ms/step - loss: 0.8746 - accuracy: 0.7005 - val_loss: 0.6030 - val_accuracy: 0.7976\n",
      "Epoch 2/30\n",
      "1719/1719 [==============================] - 15s 9ms/step - loss: 0.5953 - accuracy: 0.7913 - val_loss: 0.5369 - val_accuracy: 0.8268\n",
      "Epoch 3/30\n",
      "1719/1719 [==============================] - 20s 12ms/step - loss: 0.5412 - accuracy: 0.8092 - val_loss: 0.5479 - val_accuracy: 0.8382\n",
      "Epoch 4/30\n",
      "1719/1719 [==============================] - 21s 12ms/step - loss: 0.5064 - accuracy: 0.8218 - val_loss: 0.4990 - val_accuracy: 0.8456\n",
      "Epoch 5/30\n",
      "1719/1719 [==============================] - 19s 11ms/step - loss: 0.4828 - accuracy: 0.8293 - val_loss: 0.4521 - val_accuracy: 0.8522\n",
      "Epoch 6/30\n",
      "1719/1719 [==============================] - 20s 11ms/step - loss: 0.4680 - accuracy: 0.8349 - val_loss: 0.4528 - val_accuracy: 0.8556\n",
      "Epoch 7/30\n",
      "1719/1719 [==============================] - 24s 14ms/step - loss: 0.4542 - accuracy: 0.8383 - val_loss: 0.4279 - val_accuracy: 0.8590\n",
      "Epoch 8/30\n",
      "1719/1719 [==============================] - 23s 13ms/step - loss: 0.4463 - accuracy: 0.8424 - val_loss: 0.4366 - val_accuracy: 0.8592\n",
      "Epoch 9/30\n",
      "1719/1719 [==============================] - 23s 13ms/step - loss: 0.4351 - accuracy: 0.8461 - val_loss: 0.4651 - val_accuracy: 0.8588\n",
      "Epoch 1/30\n",
      "1719/1719 [==============================] - 10s 6ms/step - loss: 0.8962 - accuracy: 0.6966 - val_loss: 0.6092 - val_accuracy: 0.7980\n",
      "Epoch 2/30\n",
      "1719/1719 [==============================] - 18s 11ms/step - loss: 0.6015 - accuracy: 0.7911 - val_loss: 0.5339 - val_accuracy: 0.8232\n",
      "Epoch 3/30\n",
      "1719/1719 [==============================] - 22s 13ms/step - loss: 0.5446 - accuracy: 0.8108 - val_loss: 0.5090 - val_accuracy: 0.8320\n",
      "Epoch 4/30\n",
      "1719/1719 [==============================] - 23s 13ms/step - loss: 0.5095 - accuracy: 0.8212 - val_loss: 0.4872 - val_accuracy: 0.8406\n",
      "Epoch 5/30\n",
      "1719/1719 [==============================] - 21s 12ms/step - loss: 0.4860 - accuracy: 0.8293 - val_loss: 0.4533 - val_accuracy: 0.8470\n",
      "Epoch 6/30\n",
      "1719/1719 [==============================] - 22s 13ms/step - loss: 0.4712 - accuracy: 0.8325 - val_loss: 0.4516 - val_accuracy: 0.8514\n",
      "Epoch 7/30\n",
      "1719/1719 [==============================] - 23s 13ms/step - loss: 0.4575 - accuracy: 0.8382 - val_loss: 0.4381 - val_accuracy: 0.8566\n",
      "Epoch 8/30\n",
      "1719/1719 [==============================] - 20s 12ms/step - loss: 0.4461 - accuracy: 0.8419 - val_loss: 0.4401 - val_accuracy: 0.8570\n",
      "Epoch 9/30\n",
      "1719/1719 [==============================] - 24s 14ms/step - loss: 0.4367 - accuracy: 0.8456 - val_loss: 0.4381 - val_accuracy: 0.8606\n",
      "Epoch 1/30\n",
      "1719/1719 [==============================] - 11s 6ms/step - loss: 0.8636 - accuracy: 0.7072 - val_loss: 0.5918 - val_accuracy: 0.8054\n",
      "Epoch 2/30\n",
      "1719/1719 [==============================] - 17s 10ms/step - loss: 0.5924 - accuracy: 0.7934 - val_loss: 0.5344 - val_accuracy: 0.8292\n",
      "Epoch 3/30\n",
      "1719/1719 [==============================] - 11s 7ms/step - loss: 0.5380 - accuracy: 0.8113 - val_loss: 0.4966 - val_accuracy: 0.8414\n",
      "Epoch 4/30\n",
      "1719/1719 [==============================] - 17s 10ms/step - loss: 0.5044 - accuracy: 0.8247 - val_loss: 0.4901 - val_accuracy: 0.8494\n",
      "Epoch 5/30\n",
      "1719/1719 [==============================] - 20s 11ms/step - loss: 0.4806 - accuracy: 0.8321 - val_loss: 0.4466 - val_accuracy: 0.8536\n",
      "Epoch 6/30\n",
      "1719/1719 [==============================] - 22s 13ms/step - loss: 0.4660 - accuracy: 0.8352 - val_loss: 0.4513 - val_accuracy: 0.8572\n",
      "Epoch 7/30\n",
      "1719/1719 [==============================] - 21s 12ms/step - loss: 0.4548 - accuracy: 0.8406 - val_loss: 0.4305 - val_accuracy: 0.8578\n",
      "Epoch 8/30\n",
      "1719/1719 [==============================] - 22s 13ms/step - loss: 0.4439 - accuracy: 0.8425 - val_loss: 0.4206 - val_accuracy: 0.8626\n",
      "Epoch 9/30\n",
      "1719/1719 [==============================] - 20s 11ms/step - loss: 0.4337 - accuracy: 0.8465 - val_loss: 0.4276 - val_accuracy: 0.8636\n",
      "Epoch 10/30\n",
      "1719/1719 [==============================] - 19s 11ms/step - loss: 0.4261 - accuracy: 0.8494 - val_loss: 0.4284 - val_accuracy: 0.8652\n",
      "Epoch 1/30\n",
      "1719/1719 [==============================] - 9s 5ms/step - loss: 0.8810 - accuracy: 0.6961 - val_loss: 0.6024 - val_accuracy: 0.7898\n",
      "Epoch 2/30\n",
      "1719/1719 [==============================] - 18s 10ms/step - loss: 0.5971 - accuracy: 0.7889 - val_loss: 0.5293 - val_accuracy: 0.8182\n",
      "Epoch 3/30\n",
      "1719/1719 [==============================] - 17s 10ms/step - loss: 0.5415 - accuracy: 0.8089 - val_loss: 0.5187 - val_accuracy: 0.8318\n",
      "Epoch 4/30\n",
      "1719/1719 [==============================] - 19s 11ms/step - loss: 0.5083 - accuracy: 0.8204 - val_loss: 0.4806 - val_accuracy: 0.8408\n",
      "Epoch 5/30\n",
      "1719/1719 [==============================] - 20s 12ms/step - loss: 0.4844 - accuracy: 0.8280 - val_loss: 0.4481 - val_accuracy: 0.8474\n",
      "Epoch 6/30\n",
      "1719/1719 [==============================] - 19s 11ms/step - loss: 0.4708 - accuracy: 0.8331 - val_loss: 0.4378 - val_accuracy: 0.8530\n",
      "Epoch 7/30\n",
      "1719/1719 [==============================] - 17s 10ms/step - loss: 0.4574 - accuracy: 0.8379 - val_loss: 0.4276 - val_accuracy: 0.8542\n",
      "Epoch 8/30\n",
      "1719/1719 [==============================] - 21s 12ms/step - loss: 0.4460 - accuracy: 0.8410 - val_loss: 0.4286 - val_accuracy: 0.8560\n",
      "Epoch 9/30\n",
      "1719/1719 [==============================] - 21s 12ms/step - loss: 0.4357 - accuracy: 0.8462 - val_loss: 0.4355 - val_accuracy: 0.8582\n",
      "Epoch 1/30\n",
      "1719/1719 [==============================] - 11s 6ms/step - loss: 0.8623 - accuracy: 0.7059 - val_loss: 0.6012 - val_accuracy: 0.8028\n",
      "Epoch 2/30\n",
      "1719/1719 [==============================] - 16s 9ms/step - loss: 0.5891 - accuracy: 0.7941 - val_loss: 0.5249 - val_accuracy: 0.8268\n",
      "Epoch 3/30\n",
      "1719/1719 [==============================] - 19s 11ms/step - loss: 0.5360 - accuracy: 0.8116 - val_loss: 0.5040 - val_accuracy: 0.8378\n",
      "Epoch 4/30\n",
      "1719/1719 [==============================] - 14s 8ms/step - loss: 0.5035 - accuracy: 0.8247 - val_loss: 0.4884 - val_accuracy: 0.8452\n",
      "Epoch 5/30\n",
      "1719/1719 [==============================] - 21s 12ms/step - loss: 0.4812 - accuracy: 0.8304 - val_loss: 0.4531 - val_accuracy: 0.8508\n",
      "Epoch 6/30\n",
      "1719/1719 [==============================] - 20s 12ms/step - loss: 0.4649 - accuracy: 0.8368 - val_loss: 0.4430 - val_accuracy: 0.8544\n",
      "Epoch 7/30\n",
      "1719/1719 [==============================] - 21s 12ms/step - loss: 0.4541 - accuracy: 0.8410 - val_loss: 0.4338 - val_accuracy: 0.8578\n",
      "Epoch 8/30\n",
      "1719/1719 [==============================] - 20s 12ms/step - loss: 0.4437 - accuracy: 0.8429 - val_loss: 0.4444 - val_accuracy: 0.8592\n",
      "Epoch 9/30\n",
      "1719/1719 [==============================] - 21s 12ms/step - loss: 0.4348 - accuracy: 0.8464 - val_loss: 0.4349 - val_accuracy: 0.8626\n",
      "2min 58s ± 16.4 s per loop (mean ± std. dev. of 7 runs, 1 loop each)\n"
     ]
    }
   ],
   "source": [
    "%%timeit\n",
    "LAYERS = [ tf.keras.layers.Flatten(input_shape=[28, 28]),\n",
    "    tf.keras.layers.BatchNormalization(),\n",
    "    tf.keras.layers.Dense(300, kernel_initializer=\"he_normal\"),\n",
    "    tf.keras.layers.LeakyReLU(),\n",
    "    tf.keras.layers.BatchNormalization(),\n",
    "    tf.keras.layers.Dense(100, kernel_initializer=\"he_normal\"),\n",
    "    tf.keras.layers.LeakyReLU(),\n",
    "    \n",
    "    tf.keras.layers.Dense(10, activation=\"softmax\")]\n",
    "early_stopping_cb = tf.keras.callbacks.EarlyStopping(patience=2,mode=\"min\" ,monitor='val_loss',restore_best_weights=True)\n",
    "tensorboard_cb = tf.keras.callbacks.TensorBoard(get_log_dir())\n",
    "model_normalized_batch= tf.keras.models.Sequential(LAYERS)\n",
    "model_normalized_batch.compile(loss=\"sparse_categorical_crossentropy\", optimizer=tf.keras.optimizers.SGD(lr=1e-3), metrics=[\"accuracy\"])\n",
    "history = model_normalized_batch.fit(X_train, y_train, epochs=30, validation_data=(X_valid, y_valid), callbacks=[early_stopping_cb])"
   ]
  },
  {
   "cell_type": "markdown",
   "metadata": {},
   "source": [
    "# understanding manually  the forward pass"
   ]
  },
  {
   "cell_type": "code",
   "execution_count": 26,
   "metadata": {},
   "outputs": [],
   "source": [
    "# step 1 \n",
    "X = np.random.random((100, 1))\n",
    "df = pd.DataFrame(X, columns = ['X'])"
   ]
  },
  {
   "cell_type": "code",
   "execution_count": 27,
   "metadata": {},
   "outputs": [
    {
     "data": {
      "application/vnd.plotly.v1+json": {
       "config": {
        "linkText": "Export to plot.ly",
        "plotlyServerURL": "https://plot.ly",
        "showLink": true
       },
       "data": [
        {
         "line": {
          "color": "rgba(255, 153, 51, 1.0)",
          "dash": "solid",
          "shape": "linear",
          "width": 1.3
         },
         "mode": "lines",
         "name": "X",
         "text": "",
         "type": "scatter",
         "x": [
          0,
          1,
          2,
          3,
          4,
          5,
          6,
          7,
          8,
          9,
          10,
          11,
          12,
          13,
          14,
          15,
          16,
          17,
          18,
          19,
          20,
          21,
          22,
          23,
          24,
          25,
          26,
          27,
          28,
          29,
          30,
          31,
          32,
          33,
          34,
          35,
          36,
          37,
          38,
          39,
          40,
          41,
          42,
          43,
          44,
          45,
          46,
          47,
          48,
          49,
          50,
          51,
          52,
          53,
          54,
          55,
          56,
          57,
          58,
          59,
          60,
          61,
          62,
          63,
          64,
          65,
          66,
          67,
          68,
          69,
          70,
          71,
          72,
          73,
          74,
          75,
          76,
          77,
          78,
          79,
          80,
          81,
          82,
          83,
          84,
          85,
          86,
          87,
          88,
          89,
          90,
          91,
          92,
          93,
          94,
          95,
          96,
          97,
          98,
          99
         ],
         "y": [
          0.3745401188473625,
          0.9507143064099162,
          0.7319939418114051,
          0.5986584841970366,
          0.15601864044243652,
          0.15599452033620265,
          0.05808361216819946,
          0.8661761457749352,
          0.6011150117432088,
          0.7080725777960455,
          0.020584494295802447,
          0.9699098521619943,
          0.8324426408004217,
          0.21233911067827616,
          0.18182496720710062,
          0.18340450985343382,
          0.3042422429595377,
          0.5247564316322378,
          0.43194501864211576,
          0.2912291401980419,
          0.6118528947223795,
          0.13949386065204183,
          0.29214464853521815,
          0.3663618432936917,
          0.45606998421703593,
          0.7851759613930136,
          0.19967378215835974,
          0.5142344384136116,
          0.5924145688620425,
          0.046450412719997725,
          0.6075448519014384,
          0.17052412368729153,
          0.06505159298527952,
          0.9488855372533332,
          0.9656320330745594,
          0.8083973481164611,
          0.3046137691733707,
          0.09767211400638387,
          0.6842330265121569,
          0.4401524937396013,
          0.12203823484477883,
          0.4951769101112702,
          0.034388521115218396,
          0.9093204020787821,
          0.2587799816000169,
          0.662522284353982,
          0.31171107608941095,
          0.5200680211778108,
          0.5467102793432796,
          0.18485445552552704,
          0.9695846277645586,
          0.7751328233611146,
          0.9394989415641891,
          0.8948273504276488,
          0.5978999788110851,
          0.9218742350231168,
          0.0884925020519195,
          0.1959828624191452,
          0.045227288910538066,
          0.32533033076326434,
          0.388677289689482,
          0.2713490317738959,
          0.8287375091519293,
          0.3567533266935893,
          0.28093450968738076,
          0.5426960831582485,
          0.14092422497476265,
          0.8021969807540397,
          0.07455064367977082,
          0.9868869366005173,
          0.7722447692966574,
          0.1987156815341724,
          0.005522117123602399,
          0.8154614284548342,
          0.7068573438476171,
          0.7290071680409873,
          0.7712703466859457,
          0.07404465173409036,
          0.3584657285442726,
          0.11586905952512971,
          0.8631034258755935,
          0.6232981268275579,
          0.3308980248526492,
          0.06355835028602363,
          0.3109823217156622,
          0.32518332202674705,
          0.7296061783380641,
          0.6375574713552131,
          0.8872127425763265,
          0.4722149251619493,
          0.1195942459383017,
          0.713244787222995,
          0.7607850486168974,
          0.5612771975694962,
          0.770967179954561,
          0.49379559636439074,
          0.5227328293819941,
          0.42754101835854963,
          0.02541912674409519,
          0.10789142699330445
         ]
        }
       ],
       "layout": {
        "legend": {
         "bgcolor": "#F5F6F9",
         "font": {
          "color": "#4D5663"
         }
        },
        "paper_bgcolor": "#F5F6F9",
        "plot_bgcolor": "#F5F6F9",
        "template": {
         "data": {
          "bar": [
           {
            "error_x": {
             "color": "#2a3f5f"
            },
            "error_y": {
             "color": "#2a3f5f"
            },
            "marker": {
             "line": {
              "color": "#E5ECF6",
              "width": 0.5
             },
             "pattern": {
              "fillmode": "overlay",
              "size": 10,
              "solidity": 0.2
             }
            },
            "type": "bar"
           }
          ],
          "barpolar": [
           {
            "marker": {
             "line": {
              "color": "#E5ECF6",
              "width": 0.5
             },
             "pattern": {
              "fillmode": "overlay",
              "size": 10,
              "solidity": 0.2
             }
            },
            "type": "barpolar"
           }
          ],
          "carpet": [
           {
            "aaxis": {
             "endlinecolor": "#2a3f5f",
             "gridcolor": "white",
             "linecolor": "white",
             "minorgridcolor": "white",
             "startlinecolor": "#2a3f5f"
            },
            "baxis": {
             "endlinecolor": "#2a3f5f",
             "gridcolor": "white",
             "linecolor": "white",
             "minorgridcolor": "white",
             "startlinecolor": "#2a3f5f"
            },
            "type": "carpet"
           }
          ],
          "choropleth": [
           {
            "colorbar": {
             "outlinewidth": 0,
             "ticks": ""
            },
            "type": "choropleth"
           }
          ],
          "contour": [
           {
            "colorbar": {
             "outlinewidth": 0,
             "ticks": ""
            },
            "colorscale": [
             [
              0,
              "#0d0887"
             ],
             [
              0.1111111111111111,
              "#46039f"
             ],
             [
              0.2222222222222222,
              "#7201a8"
             ],
             [
              0.3333333333333333,
              "#9c179e"
             ],
             [
              0.4444444444444444,
              "#bd3786"
             ],
             [
              0.5555555555555556,
              "#d8576b"
             ],
             [
              0.6666666666666666,
              "#ed7953"
             ],
             [
              0.7777777777777778,
              "#fb9f3a"
             ],
             [
              0.8888888888888888,
              "#fdca26"
             ],
             [
              1,
              "#f0f921"
             ]
            ],
            "type": "contour"
           }
          ],
          "contourcarpet": [
           {
            "colorbar": {
             "outlinewidth": 0,
             "ticks": ""
            },
            "type": "contourcarpet"
           }
          ],
          "heatmap": [
           {
            "colorbar": {
             "outlinewidth": 0,
             "ticks": ""
            },
            "colorscale": [
             [
              0,
              "#0d0887"
             ],
             [
              0.1111111111111111,
              "#46039f"
             ],
             [
              0.2222222222222222,
              "#7201a8"
             ],
             [
              0.3333333333333333,
              "#9c179e"
             ],
             [
              0.4444444444444444,
              "#bd3786"
             ],
             [
              0.5555555555555556,
              "#d8576b"
             ],
             [
              0.6666666666666666,
              "#ed7953"
             ],
             [
              0.7777777777777778,
              "#fb9f3a"
             ],
             [
              0.8888888888888888,
              "#fdca26"
             ],
             [
              1,
              "#f0f921"
             ]
            ],
            "type": "heatmap"
           }
          ],
          "heatmapgl": [
           {
            "colorbar": {
             "outlinewidth": 0,
             "ticks": ""
            },
            "colorscale": [
             [
              0,
              "#0d0887"
             ],
             [
              0.1111111111111111,
              "#46039f"
             ],
             [
              0.2222222222222222,
              "#7201a8"
             ],
             [
              0.3333333333333333,
              "#9c179e"
             ],
             [
              0.4444444444444444,
              "#bd3786"
             ],
             [
              0.5555555555555556,
              "#d8576b"
             ],
             [
              0.6666666666666666,
              "#ed7953"
             ],
             [
              0.7777777777777778,
              "#fb9f3a"
             ],
             [
              0.8888888888888888,
              "#fdca26"
             ],
             [
              1,
              "#f0f921"
             ]
            ],
            "type": "heatmapgl"
           }
          ],
          "histogram": [
           {
            "marker": {
             "pattern": {
              "fillmode": "overlay",
              "size": 10,
              "solidity": 0.2
             }
            },
            "type": "histogram"
           }
          ],
          "histogram2d": [
           {
            "colorbar": {
             "outlinewidth": 0,
             "ticks": ""
            },
            "colorscale": [
             [
              0,
              "#0d0887"
             ],
             [
              0.1111111111111111,
              "#46039f"
             ],
             [
              0.2222222222222222,
              "#7201a8"
             ],
             [
              0.3333333333333333,
              "#9c179e"
             ],
             [
              0.4444444444444444,
              "#bd3786"
             ],
             [
              0.5555555555555556,
              "#d8576b"
             ],
             [
              0.6666666666666666,
              "#ed7953"
             ],
             [
              0.7777777777777778,
              "#fb9f3a"
             ],
             [
              0.8888888888888888,
              "#fdca26"
             ],
             [
              1,
              "#f0f921"
             ]
            ],
            "type": "histogram2d"
           }
          ],
          "histogram2dcontour": [
           {
            "colorbar": {
             "outlinewidth": 0,
             "ticks": ""
            },
            "colorscale": [
             [
              0,
              "#0d0887"
             ],
             [
              0.1111111111111111,
              "#46039f"
             ],
             [
              0.2222222222222222,
              "#7201a8"
             ],
             [
              0.3333333333333333,
              "#9c179e"
             ],
             [
              0.4444444444444444,
              "#bd3786"
             ],
             [
              0.5555555555555556,
              "#d8576b"
             ],
             [
              0.6666666666666666,
              "#ed7953"
             ],
             [
              0.7777777777777778,
              "#fb9f3a"
             ],
             [
              0.8888888888888888,
              "#fdca26"
             ],
             [
              1,
              "#f0f921"
             ]
            ],
            "type": "histogram2dcontour"
           }
          ],
          "mesh3d": [
           {
            "colorbar": {
             "outlinewidth": 0,
             "ticks": ""
            },
            "type": "mesh3d"
           }
          ],
          "parcoords": [
           {
            "line": {
             "colorbar": {
              "outlinewidth": 0,
              "ticks": ""
             }
            },
            "type": "parcoords"
           }
          ],
          "pie": [
           {
            "automargin": true,
            "type": "pie"
           }
          ],
          "scatter": [
           {
            "fillpattern": {
             "fillmode": "overlay",
             "size": 10,
             "solidity": 0.2
            },
            "type": "scatter"
           }
          ],
          "scatter3d": [
           {
            "line": {
             "colorbar": {
              "outlinewidth": 0,
              "ticks": ""
             }
            },
            "marker": {
             "colorbar": {
              "outlinewidth": 0,
              "ticks": ""
             }
            },
            "type": "scatter3d"
           }
          ],
          "scattercarpet": [
           {
            "marker": {
             "colorbar": {
              "outlinewidth": 0,
              "ticks": ""
             }
            },
            "type": "scattercarpet"
           }
          ],
          "scattergeo": [
           {
            "marker": {
             "colorbar": {
              "outlinewidth": 0,
              "ticks": ""
             }
            },
            "type": "scattergeo"
           }
          ],
          "scattergl": [
           {
            "marker": {
             "colorbar": {
              "outlinewidth": 0,
              "ticks": ""
             }
            },
            "type": "scattergl"
           }
          ],
          "scattermapbox": [
           {
            "marker": {
             "colorbar": {
              "outlinewidth": 0,
              "ticks": ""
             }
            },
            "type": "scattermapbox"
           }
          ],
          "scatterpolar": [
           {
            "marker": {
             "colorbar": {
              "outlinewidth": 0,
              "ticks": ""
             }
            },
            "type": "scatterpolar"
           }
          ],
          "scatterpolargl": [
           {
            "marker": {
             "colorbar": {
              "outlinewidth": 0,
              "ticks": ""
             }
            },
            "type": "scatterpolargl"
           }
          ],
          "scatterternary": [
           {
            "marker": {
             "colorbar": {
              "outlinewidth": 0,
              "ticks": ""
             }
            },
            "type": "scatterternary"
           }
          ],
          "surface": [
           {
            "colorbar": {
             "outlinewidth": 0,
             "ticks": ""
            },
            "colorscale": [
             [
              0,
              "#0d0887"
             ],
             [
              0.1111111111111111,
              "#46039f"
             ],
             [
              0.2222222222222222,
              "#7201a8"
             ],
             [
              0.3333333333333333,
              "#9c179e"
             ],
             [
              0.4444444444444444,
              "#bd3786"
             ],
             [
              0.5555555555555556,
              "#d8576b"
             ],
             [
              0.6666666666666666,
              "#ed7953"
             ],
             [
              0.7777777777777778,
              "#fb9f3a"
             ],
             [
              0.8888888888888888,
              "#fdca26"
             ],
             [
              1,
              "#f0f921"
             ]
            ],
            "type": "surface"
           }
          ],
          "table": [
           {
            "cells": {
             "fill": {
              "color": "#EBF0F8"
             },
             "line": {
              "color": "white"
             }
            },
            "header": {
             "fill": {
              "color": "#C8D4E3"
             },
             "line": {
              "color": "white"
             }
            },
            "type": "table"
           }
          ]
         },
         "layout": {
          "annotationdefaults": {
           "arrowcolor": "#2a3f5f",
           "arrowhead": 0,
           "arrowwidth": 1
          },
          "autotypenumbers": "strict",
          "coloraxis": {
           "colorbar": {
            "outlinewidth": 0,
            "ticks": ""
           }
          },
          "colorscale": {
           "diverging": [
            [
             0,
             "#8e0152"
            ],
            [
             0.1,
             "#c51b7d"
            ],
            [
             0.2,
             "#de77ae"
            ],
            [
             0.3,
             "#f1b6da"
            ],
            [
             0.4,
             "#fde0ef"
            ],
            [
             0.5,
             "#f7f7f7"
            ],
            [
             0.6,
             "#e6f5d0"
            ],
            [
             0.7,
             "#b8e186"
            ],
            [
             0.8,
             "#7fbc41"
            ],
            [
             0.9,
             "#4d9221"
            ],
            [
             1,
             "#276419"
            ]
           ],
           "sequential": [
            [
             0,
             "#0d0887"
            ],
            [
             0.1111111111111111,
             "#46039f"
            ],
            [
             0.2222222222222222,
             "#7201a8"
            ],
            [
             0.3333333333333333,
             "#9c179e"
            ],
            [
             0.4444444444444444,
             "#bd3786"
            ],
            [
             0.5555555555555556,
             "#d8576b"
            ],
            [
             0.6666666666666666,
             "#ed7953"
            ],
            [
             0.7777777777777778,
             "#fb9f3a"
            ],
            [
             0.8888888888888888,
             "#fdca26"
            ],
            [
             1,
             "#f0f921"
            ]
           ],
           "sequentialminus": [
            [
             0,
             "#0d0887"
            ],
            [
             0.1111111111111111,
             "#46039f"
            ],
            [
             0.2222222222222222,
             "#7201a8"
            ],
            [
             0.3333333333333333,
             "#9c179e"
            ],
            [
             0.4444444444444444,
             "#bd3786"
            ],
            [
             0.5555555555555556,
             "#d8576b"
            ],
            [
             0.6666666666666666,
             "#ed7953"
            ],
            [
             0.7777777777777778,
             "#fb9f3a"
            ],
            [
             0.8888888888888888,
             "#fdca26"
            ],
            [
             1,
             "#f0f921"
            ]
           ]
          },
          "colorway": [
           "#636efa",
           "#EF553B",
           "#00cc96",
           "#ab63fa",
           "#FFA15A",
           "#19d3f3",
           "#FF6692",
           "#B6E880",
           "#FF97FF",
           "#FECB52"
          ],
          "font": {
           "color": "#2a3f5f"
          },
          "geo": {
           "bgcolor": "white",
           "lakecolor": "white",
           "landcolor": "#E5ECF6",
           "showlakes": true,
           "showland": true,
           "subunitcolor": "white"
          },
          "hoverlabel": {
           "align": "left"
          },
          "hovermode": "closest",
          "mapbox": {
           "style": "light"
          },
          "paper_bgcolor": "white",
          "plot_bgcolor": "#E5ECF6",
          "polar": {
           "angularaxis": {
            "gridcolor": "white",
            "linecolor": "white",
            "ticks": ""
           },
           "bgcolor": "#E5ECF6",
           "radialaxis": {
            "gridcolor": "white",
            "linecolor": "white",
            "ticks": ""
           }
          },
          "scene": {
           "xaxis": {
            "backgroundcolor": "#E5ECF6",
            "gridcolor": "white",
            "gridwidth": 2,
            "linecolor": "white",
            "showbackground": true,
            "ticks": "",
            "zerolinecolor": "white"
           },
           "yaxis": {
            "backgroundcolor": "#E5ECF6",
            "gridcolor": "white",
            "gridwidth": 2,
            "linecolor": "white",
            "showbackground": true,
            "ticks": "",
            "zerolinecolor": "white"
           },
           "zaxis": {
            "backgroundcolor": "#E5ECF6",
            "gridcolor": "white",
            "gridwidth": 2,
            "linecolor": "white",
            "showbackground": true,
            "ticks": "",
            "zerolinecolor": "white"
           }
          },
          "shapedefaults": {
           "line": {
            "color": "#2a3f5f"
           }
          },
          "ternary": {
           "aaxis": {
            "gridcolor": "white",
            "linecolor": "white",
            "ticks": ""
           },
           "baxis": {
            "gridcolor": "white",
            "linecolor": "white",
            "ticks": ""
           },
           "bgcolor": "#E5ECF6",
           "caxis": {
            "gridcolor": "white",
            "linecolor": "white",
            "ticks": ""
           }
          },
          "title": {
           "x": 0.05
          },
          "xaxis": {
           "automargin": true,
           "gridcolor": "white",
           "linecolor": "white",
           "ticks": "",
           "title": {
            "standoff": 15
           },
           "zerolinecolor": "white",
           "zerolinewidth": 2
          },
          "yaxis": {
           "automargin": true,
           "gridcolor": "white",
           "linecolor": "white",
           "ticks": "",
           "title": {
            "standoff": 15
           },
           "zerolinecolor": "white",
           "zerolinewidth": 2
          }
         }
        },
        "title": {
         "font": {
          "color": "#4D5663"
         }
        },
        "xaxis": {
         "gridcolor": "#E1E5ED",
         "showgrid": true,
         "tickfont": {
          "color": "#4D5663"
         },
         "title": {
          "font": {
           "color": "#4D5663"
          },
          "text": ""
         },
         "zerolinecolor": "#E1E5ED"
        },
        "yaxis": {
         "gridcolor": "#E1E5ED",
         "showgrid": true,
         "tickfont": {
          "color": "#4D5663"
         },
         "title": {
          "font": {
           "color": "#4D5663"
          },
          "text": ""
         },
         "zerolinecolor": "#E1E5ED"
        }
       }
      },
      "text/html": [
       "<div>                            <div id=\"3192da12-aa28-4fba-a478-977f5753108c\" class=\"plotly-graph-div\" style=\"height:525px; width:100%;\"></div>            <script type=\"text/javascript\">                require([\"plotly\"], function(Plotly) {                    window.PLOTLYENV=window.PLOTLYENV || {};\n",
       "                    window.PLOTLYENV.BASE_URL='https://plot.ly';                                    if (document.getElementById(\"3192da12-aa28-4fba-a478-977f5753108c\")) {                    Plotly.newPlot(                        \"3192da12-aa28-4fba-a478-977f5753108c\",                        [{\"line\":{\"color\":\"rgba(255, 153, 51, 1.0)\",\"dash\":\"solid\",\"shape\":\"linear\",\"width\":1.3},\"mode\":\"lines\",\"name\":\"X\",\"text\":\"\",\"x\":[0,1,2,3,4,5,6,7,8,9,10,11,12,13,14,15,16,17,18,19,20,21,22,23,24,25,26,27,28,29,30,31,32,33,34,35,36,37,38,39,40,41,42,43,44,45,46,47,48,49,50,51,52,53,54,55,56,57,58,59,60,61,62,63,64,65,66,67,68,69,70,71,72,73,74,75,76,77,78,79,80,81,82,83,84,85,86,87,88,89,90,91,92,93,94,95,96,97,98,99],\"y\":[0.3745401188473625,0.9507143064099162,0.7319939418114051,0.5986584841970366,0.15601864044243652,0.15599452033620265,0.05808361216819946,0.8661761457749352,0.6011150117432088,0.7080725777960455,0.020584494295802447,0.9699098521619943,0.8324426408004217,0.21233911067827616,0.18182496720710062,0.18340450985343382,0.3042422429595377,0.5247564316322378,0.43194501864211576,0.2912291401980419,0.6118528947223795,0.13949386065204183,0.29214464853521815,0.3663618432936917,0.45606998421703593,0.7851759613930136,0.19967378215835974,0.5142344384136116,0.5924145688620425,0.046450412719997725,0.6075448519014384,0.17052412368729153,0.06505159298527952,0.9488855372533332,0.9656320330745594,0.8083973481164611,0.3046137691733707,0.09767211400638387,0.6842330265121569,0.4401524937396013,0.12203823484477883,0.4951769101112702,0.034388521115218396,0.9093204020787821,0.2587799816000169,0.662522284353982,0.31171107608941095,0.5200680211778108,0.5467102793432796,0.18485445552552704,0.9695846277645586,0.7751328233611146,0.9394989415641891,0.8948273504276488,0.5978999788110851,0.9218742350231168,0.0884925020519195,0.1959828624191452,0.045227288910538066,0.32533033076326434,0.388677289689482,0.2713490317738959,0.8287375091519293,0.3567533266935893,0.28093450968738076,0.5426960831582485,0.14092422497476265,0.8021969807540397,0.07455064367977082,0.9868869366005173,0.7722447692966574,0.1987156815341724,0.005522117123602399,0.8154614284548342,0.7068573438476171,0.7290071680409873,0.7712703466859457,0.07404465173409036,0.3584657285442726,0.11586905952512971,0.8631034258755935,0.6232981268275579,0.3308980248526492,0.06355835028602363,0.3109823217156622,0.32518332202674705,0.7296061783380641,0.6375574713552131,0.8872127425763265,0.4722149251619493,0.1195942459383017,0.713244787222995,0.7607850486168974,0.5612771975694962,0.770967179954561,0.49379559636439074,0.5227328293819941,0.42754101835854963,0.02541912674409519,0.10789142699330445],\"type\":\"scatter\"}],                        {\"legend\":{\"bgcolor\":\"#F5F6F9\",\"font\":{\"color\":\"#4D5663\"}},\"paper_bgcolor\":\"#F5F6F9\",\"plot_bgcolor\":\"#F5F6F9\",\"template\":{\"data\":{\"barpolar\":[{\"marker\":{\"line\":{\"color\":\"#E5ECF6\",\"width\":0.5},\"pattern\":{\"fillmode\":\"overlay\",\"size\":10,\"solidity\":0.2}},\"type\":\"barpolar\"}],\"bar\":[{\"error_x\":{\"color\":\"#2a3f5f\"},\"error_y\":{\"color\":\"#2a3f5f\"},\"marker\":{\"line\":{\"color\":\"#E5ECF6\",\"width\":0.5},\"pattern\":{\"fillmode\":\"overlay\",\"size\":10,\"solidity\":0.2}},\"type\":\"bar\"}],\"carpet\":[{\"aaxis\":{\"endlinecolor\":\"#2a3f5f\",\"gridcolor\":\"white\",\"linecolor\":\"white\",\"minorgridcolor\":\"white\",\"startlinecolor\":\"#2a3f5f\"},\"baxis\":{\"endlinecolor\":\"#2a3f5f\",\"gridcolor\":\"white\",\"linecolor\":\"white\",\"minorgridcolor\":\"white\",\"startlinecolor\":\"#2a3f5f\"},\"type\":\"carpet\"}],\"choropleth\":[{\"colorbar\":{\"outlinewidth\":0,\"ticks\":\"\"},\"type\":\"choropleth\"}],\"contourcarpet\":[{\"colorbar\":{\"outlinewidth\":0,\"ticks\":\"\"},\"type\":\"contourcarpet\"}],\"contour\":[{\"colorbar\":{\"outlinewidth\":0,\"ticks\":\"\"},\"colorscale\":[[0.0,\"#0d0887\"],[0.1111111111111111,\"#46039f\"],[0.2222222222222222,\"#7201a8\"],[0.3333333333333333,\"#9c179e\"],[0.4444444444444444,\"#bd3786\"],[0.5555555555555556,\"#d8576b\"],[0.6666666666666666,\"#ed7953\"],[0.7777777777777778,\"#fb9f3a\"],[0.8888888888888888,\"#fdca26\"],[1.0,\"#f0f921\"]],\"type\":\"contour\"}],\"heatmapgl\":[{\"colorbar\":{\"outlinewidth\":0,\"ticks\":\"\"},\"colorscale\":[[0.0,\"#0d0887\"],[0.1111111111111111,\"#46039f\"],[0.2222222222222222,\"#7201a8\"],[0.3333333333333333,\"#9c179e\"],[0.4444444444444444,\"#bd3786\"],[0.5555555555555556,\"#d8576b\"],[0.6666666666666666,\"#ed7953\"],[0.7777777777777778,\"#fb9f3a\"],[0.8888888888888888,\"#fdca26\"],[1.0,\"#f0f921\"]],\"type\":\"heatmapgl\"}],\"heatmap\":[{\"colorbar\":{\"outlinewidth\":0,\"ticks\":\"\"},\"colorscale\":[[0.0,\"#0d0887\"],[0.1111111111111111,\"#46039f\"],[0.2222222222222222,\"#7201a8\"],[0.3333333333333333,\"#9c179e\"],[0.4444444444444444,\"#bd3786\"],[0.5555555555555556,\"#d8576b\"],[0.6666666666666666,\"#ed7953\"],[0.7777777777777778,\"#fb9f3a\"],[0.8888888888888888,\"#fdca26\"],[1.0,\"#f0f921\"]],\"type\":\"heatmap\"}],\"histogram2dcontour\":[{\"colorbar\":{\"outlinewidth\":0,\"ticks\":\"\"},\"colorscale\":[[0.0,\"#0d0887\"],[0.1111111111111111,\"#46039f\"],[0.2222222222222222,\"#7201a8\"],[0.3333333333333333,\"#9c179e\"],[0.4444444444444444,\"#bd3786\"],[0.5555555555555556,\"#d8576b\"],[0.6666666666666666,\"#ed7953\"],[0.7777777777777778,\"#fb9f3a\"],[0.8888888888888888,\"#fdca26\"],[1.0,\"#f0f921\"]],\"type\":\"histogram2dcontour\"}],\"histogram2d\":[{\"colorbar\":{\"outlinewidth\":0,\"ticks\":\"\"},\"colorscale\":[[0.0,\"#0d0887\"],[0.1111111111111111,\"#46039f\"],[0.2222222222222222,\"#7201a8\"],[0.3333333333333333,\"#9c179e\"],[0.4444444444444444,\"#bd3786\"],[0.5555555555555556,\"#d8576b\"],[0.6666666666666666,\"#ed7953\"],[0.7777777777777778,\"#fb9f3a\"],[0.8888888888888888,\"#fdca26\"],[1.0,\"#f0f921\"]],\"type\":\"histogram2d\"}],\"histogram\":[{\"marker\":{\"pattern\":{\"fillmode\":\"overlay\",\"size\":10,\"solidity\":0.2}},\"type\":\"histogram\"}],\"mesh3d\":[{\"colorbar\":{\"outlinewidth\":0,\"ticks\":\"\"},\"type\":\"mesh3d\"}],\"parcoords\":[{\"line\":{\"colorbar\":{\"outlinewidth\":0,\"ticks\":\"\"}},\"type\":\"parcoords\"}],\"pie\":[{\"automargin\":true,\"type\":\"pie\"}],\"scatter3d\":[{\"line\":{\"colorbar\":{\"outlinewidth\":0,\"ticks\":\"\"}},\"marker\":{\"colorbar\":{\"outlinewidth\":0,\"ticks\":\"\"}},\"type\":\"scatter3d\"}],\"scattercarpet\":[{\"marker\":{\"colorbar\":{\"outlinewidth\":0,\"ticks\":\"\"}},\"type\":\"scattercarpet\"}],\"scattergeo\":[{\"marker\":{\"colorbar\":{\"outlinewidth\":0,\"ticks\":\"\"}},\"type\":\"scattergeo\"}],\"scattergl\":[{\"marker\":{\"colorbar\":{\"outlinewidth\":0,\"ticks\":\"\"}},\"type\":\"scattergl\"}],\"scattermapbox\":[{\"marker\":{\"colorbar\":{\"outlinewidth\":0,\"ticks\":\"\"}},\"type\":\"scattermapbox\"}],\"scatterpolargl\":[{\"marker\":{\"colorbar\":{\"outlinewidth\":0,\"ticks\":\"\"}},\"type\":\"scatterpolargl\"}],\"scatterpolar\":[{\"marker\":{\"colorbar\":{\"outlinewidth\":0,\"ticks\":\"\"}},\"type\":\"scatterpolar\"}],\"scatter\":[{\"fillpattern\":{\"fillmode\":\"overlay\",\"size\":10,\"solidity\":0.2},\"type\":\"scatter\"}],\"scatterternary\":[{\"marker\":{\"colorbar\":{\"outlinewidth\":0,\"ticks\":\"\"}},\"type\":\"scatterternary\"}],\"surface\":[{\"colorbar\":{\"outlinewidth\":0,\"ticks\":\"\"},\"colorscale\":[[0.0,\"#0d0887\"],[0.1111111111111111,\"#46039f\"],[0.2222222222222222,\"#7201a8\"],[0.3333333333333333,\"#9c179e\"],[0.4444444444444444,\"#bd3786\"],[0.5555555555555556,\"#d8576b\"],[0.6666666666666666,\"#ed7953\"],[0.7777777777777778,\"#fb9f3a\"],[0.8888888888888888,\"#fdca26\"],[1.0,\"#f0f921\"]],\"type\":\"surface\"}],\"table\":[{\"cells\":{\"fill\":{\"color\":\"#EBF0F8\"},\"line\":{\"color\":\"white\"}},\"header\":{\"fill\":{\"color\":\"#C8D4E3\"},\"line\":{\"color\":\"white\"}},\"type\":\"table\"}]},\"layout\":{\"annotationdefaults\":{\"arrowcolor\":\"#2a3f5f\",\"arrowhead\":0,\"arrowwidth\":1},\"autotypenumbers\":\"strict\",\"coloraxis\":{\"colorbar\":{\"outlinewidth\":0,\"ticks\":\"\"}},\"colorscale\":{\"diverging\":[[0,\"#8e0152\"],[0.1,\"#c51b7d\"],[0.2,\"#de77ae\"],[0.3,\"#f1b6da\"],[0.4,\"#fde0ef\"],[0.5,\"#f7f7f7\"],[0.6,\"#e6f5d0\"],[0.7,\"#b8e186\"],[0.8,\"#7fbc41\"],[0.9,\"#4d9221\"],[1,\"#276419\"]],\"sequential\":[[0.0,\"#0d0887\"],[0.1111111111111111,\"#46039f\"],[0.2222222222222222,\"#7201a8\"],[0.3333333333333333,\"#9c179e\"],[0.4444444444444444,\"#bd3786\"],[0.5555555555555556,\"#d8576b\"],[0.6666666666666666,\"#ed7953\"],[0.7777777777777778,\"#fb9f3a\"],[0.8888888888888888,\"#fdca26\"],[1.0,\"#f0f921\"]],\"sequentialminus\":[[0.0,\"#0d0887\"],[0.1111111111111111,\"#46039f\"],[0.2222222222222222,\"#7201a8\"],[0.3333333333333333,\"#9c179e\"],[0.4444444444444444,\"#bd3786\"],[0.5555555555555556,\"#d8576b\"],[0.6666666666666666,\"#ed7953\"],[0.7777777777777778,\"#fb9f3a\"],[0.8888888888888888,\"#fdca26\"],[1.0,\"#f0f921\"]]},\"colorway\":[\"#636efa\",\"#EF553B\",\"#00cc96\",\"#ab63fa\",\"#FFA15A\",\"#19d3f3\",\"#FF6692\",\"#B6E880\",\"#FF97FF\",\"#FECB52\"],\"font\":{\"color\":\"#2a3f5f\"},\"geo\":{\"bgcolor\":\"white\",\"lakecolor\":\"white\",\"landcolor\":\"#E5ECF6\",\"showlakes\":true,\"showland\":true,\"subunitcolor\":\"white\"},\"hoverlabel\":{\"align\":\"left\"},\"hovermode\":\"closest\",\"mapbox\":{\"style\":\"light\"},\"paper_bgcolor\":\"white\",\"plot_bgcolor\":\"#E5ECF6\",\"polar\":{\"angularaxis\":{\"gridcolor\":\"white\",\"linecolor\":\"white\",\"ticks\":\"\"},\"bgcolor\":\"#E5ECF6\",\"radialaxis\":{\"gridcolor\":\"white\",\"linecolor\":\"white\",\"ticks\":\"\"}},\"scene\":{\"xaxis\":{\"backgroundcolor\":\"#E5ECF6\",\"gridcolor\":\"white\",\"gridwidth\":2,\"linecolor\":\"white\",\"showbackground\":true,\"ticks\":\"\",\"zerolinecolor\":\"white\"},\"yaxis\":{\"backgroundcolor\":\"#E5ECF6\",\"gridcolor\":\"white\",\"gridwidth\":2,\"linecolor\":\"white\",\"showbackground\":true,\"ticks\":\"\",\"zerolinecolor\":\"white\"},\"zaxis\":{\"backgroundcolor\":\"#E5ECF6\",\"gridcolor\":\"white\",\"gridwidth\":2,\"linecolor\":\"white\",\"showbackground\":true,\"ticks\":\"\",\"zerolinecolor\":\"white\"}},\"shapedefaults\":{\"line\":{\"color\":\"#2a3f5f\"}},\"ternary\":{\"aaxis\":{\"gridcolor\":\"white\",\"linecolor\":\"white\",\"ticks\":\"\"},\"baxis\":{\"gridcolor\":\"white\",\"linecolor\":\"white\",\"ticks\":\"\"},\"bgcolor\":\"#E5ECF6\",\"caxis\":{\"gridcolor\":\"white\",\"linecolor\":\"white\",\"ticks\":\"\"}},\"title\":{\"x\":0.05},\"xaxis\":{\"automargin\":true,\"gridcolor\":\"white\",\"linecolor\":\"white\",\"ticks\":\"\",\"title\":{\"standoff\":15},\"zerolinecolor\":\"white\",\"zerolinewidth\":2},\"yaxis\":{\"automargin\":true,\"gridcolor\":\"white\",\"linecolor\":\"white\",\"ticks\":\"\",\"title\":{\"standoff\":15},\"zerolinecolor\":\"white\",\"zerolinewidth\":2}}},\"title\":{\"font\":{\"color\":\"#4D5663\"}},\"xaxis\":{\"gridcolor\":\"#E1E5ED\",\"showgrid\":true,\"tickfont\":{\"color\":\"#4D5663\"},\"title\":{\"font\":{\"color\":\"#4D5663\"},\"text\":\"\"},\"zerolinecolor\":\"#E1E5ED\"},\"yaxis\":{\"gridcolor\":\"#E1E5ED\",\"showgrid\":true,\"tickfont\":{\"color\":\"#4D5663\"},\"title\":{\"font\":{\"color\":\"#4D5663\"},\"text\":\"\"},\"zerolinecolor\":\"#E1E5ED\"}},                        {\"showLink\": true, \"linkText\": \"Export to plot.ly\", \"plotlyServerURL\": \"https://plot.ly\", \"responsive\": true}                    ).then(function(){\n",
       "                            \n",
       "var gd = document.getElementById('3192da12-aa28-4fba-a478-977f5753108c');\n",
       "var x = new MutationObserver(function (mutations, observer) {{\n",
       "        var display = window.getComputedStyle(gd).display;\n",
       "        if (!display || display === 'none') {{\n",
       "            console.log([gd, 'removed!']);\n",
       "            Plotly.purge(gd);\n",
       "            observer.disconnect();\n",
       "        }}\n",
       "}});\n",
       "\n",
       "// Listen for the removal of the full notebook cells\n",
       "var notebookContainer = gd.closest('#notebook-container');\n",
       "if (notebookContainer) {{\n",
       "    x.observe(notebookContainer, {childList: true});\n",
       "}}\n",
       "\n",
       "// Listen for the clearing of the current output cell\n",
       "var outputEl = gd.closest('.output');\n",
       "if (outputEl) {{\n",
       "    x.observe(outputEl, {childList: true});\n",
       "}}\n",
       "\n",
       "                        })                };                });            </script>        </div>"
      ]
     },
     "metadata": {},
     "output_type": "display_data"
    }
   ],
   "source": [
    "df.iplot()"
   ]
  },
  {
   "cell_type": "code",
   "execution_count": 28,
   "metadata": {},
   "outputs": [],
   "source": [
    "BATCH_MEAN = np.mean(X)\n",
    "# STEP 2\n",
    "BATCH_VAR = np.var(X)"
   ]
  },
  {
   "cell_type": "code",
   "execution_count": 29,
   "metadata": {},
   "outputs": [
    {
     "data": {
      "text/plain": [
       "(0.47018074337820936, 0.08761495016957914)"
      ]
     },
     "execution_count": 29,
     "metadata": {},
     "output_type": "execute_result"
    }
   ],
   "source": [
    "BATCH_MEAN , BATCH_VAR"
   ]
  },
  {
   "cell_type": "code",
   "execution_count": 30,
   "metadata": {},
   "outputs": [],
   "source": [
    "EPSILON = 1e-8"
   ]
  },
  {
   "cell_type": "code",
   "execution_count": 31,
   "metadata": {},
   "outputs": [],
   "source": [
    "# step 3\n",
    "\n",
    "df['X_norm'] = (df['X'] - BATCH_MEAN) / math.sqrt(BATCH_VAR + EPSILON)"
   ]
  },
  {
   "cell_type": "code",
   "execution_count": 32,
   "metadata": {},
   "outputs": [
    {
     "data": {
      "image/png": "[encoded data removed]",
      "text/plain": [
       "<Figure size 1000x600 with 1 Axes>"
      ]
     },
     "metadata": {},
     "output_type": "display_data"
    }
   ],
   "source": [
    "fig = plt.figure(figsize=(10,6))\n",
    "sns.distplot(df[\"X\"] , hist=False ,  label= \"X\")\n",
    "sns.distplot(df[\"X_norm\"] , hist=False , label= \"X_norm\")\n",
    "plt.legend(labels = ['X', 'X_norm'])\n",
    "plt.show()\n"
   ]
  },
  {
   "cell_type": "code",
   "execution_count": 33,
   "metadata": {},
   "outputs": [],
   "source": [
    "df[\"gamma\"] = 0.7 * df[\"X_norm\"]"
   ]
  },
  {
   "cell_type": "code",
   "execution_count": 34,
   "metadata": {},
   "outputs": [
    {
     "data": {
      "text/plain": [
       "<matplotlib.legend.Legend at 0x7f25fc37ccd0>"
      ]
     },
     "execution_count": 34,
     "metadata": {},
     "output_type": "execute_result"
    },
    {
     "data": {
      "image/png": "[encoded data removed]",
      "text/plain": [
       "<Figure size 640x480 with 1 Axes>"
      ]
     },
     "metadata": {},
     "output_type": "display_data"
    }
   ],
   "source": [
    "sns.distplot(df[\"X_norm\"] , hist=False , label= \"X_norm\")\n",
    "sns.distplot(df[\"gamma\"] , hist=False , label= \"gamma\")\n",
    "plt.legend(labels = ['X_norm', 'gamma'])"
   ]
  },
  {
   "cell_type": "code",
   "execution_count": 35,
   "metadata": {},
   "outputs": [],
   "source": [
    "df[\"beta\"] = 0.3 + df[\"gamma\"]"
   ]
  },
  {
   "cell_type": "code",
   "execution_count": 36,
   "metadata": {},
   "outputs": [
    {
     "data": {
      "text/plain": [
       "<matplotlib.legend.Legend at 0x7f25fc2ce0d0>"
      ]
     },
     "execution_count": 36,
     "metadata": {},
     "output_type": "execute_result"
    },
    {
     "data": {
      "image/png": "[encoded data removed]",
      "text/plain": [
       "<Figure size 640x480 with 1 Axes>"
      ]
     },
     "metadata": {},
     "output_type": "display_data"
    }
   ],
   "source": [
    "sns.distplot(df[\"X\"] , hist=False , label= \"gamma\")\n",
    "sns.distplot(df[\"X_norm\"] , hist=False , label= \"beta\")\n",
    "sns.distplot(df[\"gamma\"] , hist=False , label= \"gamma\")\n",
    "sns.distplot(df[\"beta\"] , hist=False , label= \"beta\")\n",
    "plt.legend(labels = ['X', 'X_norm', 'gamma', 'beta'])"
   ]
  }
 ],
 "metadata": {
  "kernelspec": {
   "display_name": "Python 3.9.0 ('tf_activation')",
   "language": "python",
   "name": "python3"
  },
  "language_info": {
   "codemirror_mode": {
    "name": "ipython",
    "version": 3
   },
   "file_extension": ".py",
   "mimetype": "text/x-python",
   "name": "python",
   "nbconvert_exporter": "python",
   "pygments_lexer": "ipython3",
   "version": "3.9.0"
  },
  "orig_nbformat": 4,
  "vscode": {
   "interpreter": {
    "hash": "3af8da872d671130d6671fbab1e199b40d93c3f1c12780ea7d43b8f934264a38"
   }
  }
 },
 "nbformat": 4,
 "nbformat_minor": 2
}
