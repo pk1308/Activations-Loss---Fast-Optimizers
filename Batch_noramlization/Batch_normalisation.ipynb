{
 "cells": [
  {
   "cell_type": "code",
   "execution_count": 57,
   "metadata": {},
   "outputs": [
    {
     "data": {
      "text/html": [
       "        <script type=\"text/javascript\">\n",
       "        window.PlotlyConfig = {MathJaxConfig: 'local'};\n",
       "        if (window.MathJax && window.MathJax.Hub && window.MathJax.Hub.Config) {window.MathJax.Hub.Config({SVG: {font: \"STIX-Web\"}});}\n",
       "        if (typeof require !== 'undefined') {\n",
       "        require.undef(\"plotly\");\n",
       "        requirejs.config({\n",
       "            paths: {\n",
       "                'plotly': ['https://cdn.plot.ly/plotly-2.14.0.min']\n",
       "            }\n",
       "        });\n",
       "        require(['plotly'], function(Plotly) {\n",
       "            window._Plotly = Plotly;\n",
       "        });\n",
       "        }\n",
       "        </script>\n",
       "        "
      ]
     },
     "metadata": {},
     "output_type": "display_data"
    }
   ],
   "source": [
    "import math\n",
    "\n",
    "import cufflinks as cf\n",
    "import numpy as np\n",
    "import pandas as pd\n",
    "import seaborn as sns \n",
    "import matplotlib.pyplot as plt\n",
    "from IPYNBrenderer import render_google_doc\n",
    "from tensorflow import keras\n",
    "\n",
    "cf.go_offline()\n",
    "import warnings\n",
    "\n",
    "warnings.filterwarnings('ignore')"
   ]
  },
  {
   "cell_type": "markdown",
   "metadata": {},
   "source": [
    "# Batch normalization"
   ]
  },
  {
   "cell_type": "markdown",
   "metadata": {},
   "source": [
    "### forward pass \n",
    "step 1\n",
    "$$ \\ μ_B = \\frac{1}{m_B} \\sum_{i=1}^{m_B} \\ x^(i)"
   ]
  },
  {
   "cell_type": "markdown",
   "metadata": {},
   "source": [
    "step2\n",
    "$$ \\ σ_B^2 = \\frac{1}{m_B} \\sum_{i=1}^{m_B} ( \\ x^(i) - μ_B )^2\n"
   ]
  },
  {
   "cell_type": "markdown",
   "metadata": {},
   "source": [
    "step 3\n",
    "$$ \\hat{x}^(i) =\\frac{ x^(i) - μ_B}{\\sqrt{σ_B^2+ \\epsilon}}"
   ]
  },
  {
   "cell_type": "markdown",
   "metadata": {},
   "source": [
    "step 4\n",
    "$$ z^(i) = \\gamma \\cdot \\hat{x}^(i) + \\beta"
   ]
  },
  {
   "cell_type": "code",
   "execution_count": 128,
   "metadata": {},
   "outputs": [],
   "source": [
    "class BatchNormalization:\n",
    "    def __init__(self, gamma=1, beta=0, eps=1e-5):\n",
    "        \"\"\" gamma: scale parameter beta: shift parameter eps: small value for numerical stability \"\"\"\n",
    "        self.gamma = gamma\n",
    "        self.beta = beta\n",
    "        self.eps = eps\n",
    "        self.running_mean = 0\n",
    "        self.running_var = 0\n",
    "        self.batch_mean = 0\n",
    "        self.batch_var = 0\n",
    "        self.batch_size = 0\n",
    "        self.x = 0\n",
    "        self.x_norm = 0\n",
    "\n",
    "    def forward(self, x, is_training=True):\n",
    "        self.batch_size = x.shape[0]\n",
    "        self.x = x\n",
    "        if is_training:\n",
    "            self.batch_mean =  np.mean(x, axis=0)\n",
    "            self.batch_var =  np.var(x, axis=0)\n",
    "            self.running_mean = 0.9 * self.running_mean + 0.1 * self.batch_mean\n",
    "            self.running_var = 0.9 * self.running_var + 0.1 * self.batch_var\n",
    "        else:\n",
    "            self.batch_mean = self.running_mean\n",
    "            self.batch_var = self.running_var\n",
    "        self.x_norm = (x - self.batch_mean) / np.sqrt(self.batch_var + self.eps)\n",
    "        out = self.gamma * self.x_norm + self.beta\n",
    "        return out\n",
    "\n"
   ]
  },
  {
   "cell_type": "code",
   "execution_count": 124,
   "metadata": {},
   "outputs": [],
   "source": [
    "X = np.random.random((1000, 100)) # 100 data points, each with dimension 100"
   ]
  },
  {
   "cell_type": "code",
   "execution_count": 125,
   "metadata": {},
   "outputs": [],
   "source": [
    "\n",
    "model = BatchNormalization()\n",
    "dout = model.forward(X , is_training=True)"
   ]
  },
  {
   "cell_type": "code",
   "execution_count": 126,
   "metadata": {},
   "outputs": [
    {
     "data": {
      "text/plain": [
       "{'gamma': 1,\n",
       " 'beta': 0,\n",
       " 'eps': 1e-05,\n",
       " 'running_mean': array([0.05035208, 0.05097212, 0.05007515, 0.04981404, 0.05042691,\n",
       "        0.0511019 , 0.04942713, 0.05013928, 0.04998559, 0.04974981,\n",
       "        0.04972245, 0.04998465, 0.05118949, 0.05085486, 0.0489048 ,\n",
       "        0.0504698 , 0.0509284 , 0.05054047, 0.05034749, 0.05140229,\n",
       "        0.05105852, 0.05107165, 0.0509534 , 0.04960026, 0.04907431,\n",
       "        0.05125169, 0.05078993, 0.0501184 , 0.04992207, 0.04887544,\n",
       "        0.04809139, 0.05045866, 0.04990419, 0.04983088, 0.05077204,\n",
       "        0.05051663, 0.05122583, 0.04960907, 0.0513524 , 0.04874902,\n",
       "        0.04877277, 0.04782025, 0.05009455, 0.04852034, 0.04914211,\n",
       "        0.05029722, 0.0499874 , 0.04921957, 0.04829584, 0.05039931,\n",
       "        0.05011812, 0.04940275, 0.0511984 , 0.0498723 , 0.04987829,\n",
       "        0.05290918, 0.04844704, 0.05075474, 0.04999476, 0.05125149,\n",
       "        0.04923647, 0.04993654, 0.04970353, 0.04829893, 0.04982466,\n",
       "        0.04974458, 0.0498152 , 0.04885497, 0.05071359, 0.05020239,\n",
       "        0.05076604, 0.04941837, 0.05112377, 0.05033323, 0.05056537,\n",
       "        0.04987146, 0.049461  , 0.04948544, 0.05015325, 0.04917608,\n",
       "        0.05185505, 0.04985335, 0.05050397, 0.04940727, 0.05019535,\n",
       "        0.04753514, 0.04976779, 0.05017144, 0.04987865, 0.04835625,\n",
       "        0.04908362, 0.05024668, 0.05059261, 0.05089129, 0.0512364 ,\n",
       "        0.04944773, 0.05197165, 0.05183026, 0.04921576, 0.04917401]),\n",
       " 'running_var': array([0.00822393, 0.00803879, 0.00858986, 0.0080853 , 0.00867163,\n",
       "        0.00820706, 0.00864467, 0.00855822, 0.00821037, 0.00855581,\n",
       "        0.00854447, 0.00833398, 0.00818317, 0.00876333, 0.00831102,\n",
       "        0.00805597, 0.00833648, 0.00829702, 0.00816724, 0.00817642,\n",
       "        0.00819721, 0.00794876, 0.00835726, 0.00845299, 0.0082806 ,\n",
       "        0.00819883, 0.00836059, 0.00823722, 0.00858266, 0.00845321,\n",
       "        0.00837187, 0.00826003, 0.00820935, 0.00818371, 0.00833672,\n",
       "        0.00833373, 0.0080642 , 0.00802237, 0.0081624 , 0.0085642 ,\n",
       "        0.00810053, 0.00831614, 0.00821175, 0.00855275, 0.00808672,\n",
       "        0.00821518, 0.00852611, 0.00888397, 0.00779361, 0.00854894,\n",
       "        0.00851172, 0.00825697, 0.00809812, 0.00842515, 0.00840804,\n",
       "        0.00832308, 0.00822529, 0.00830058, 0.00775131, 0.00820315,\n",
       "        0.00849167, 0.00803325, 0.00819775, 0.00836985, 0.0082838 ,\n",
       "        0.00826076, 0.00827645, 0.00786937, 0.00819078, 0.00862123,\n",
       "        0.00827001, 0.0086158 , 0.00831727, 0.00860088, 0.00797428,\n",
       "        0.00835588, 0.00835947, 0.00847521, 0.00855593, 0.00813092,\n",
       "        0.0080087 , 0.00827325, 0.00821256, 0.00814656, 0.00815603,\n",
       "        0.00809895, 0.00863233, 0.00824724, 0.00852106, 0.0084502 ,\n",
       "        0.00833538, 0.00856709, 0.00836265, 0.00787602, 0.00840831,\n",
       "        0.00848249, 0.00803454, 0.00888075, 0.00811917, 0.00856051]),\n",
       " 'batch_mean': array([0.50352075, 0.50972121, 0.50075153, 0.49814042, 0.50426906,\n",
       "        0.51101897, 0.49427132, 0.50139282, 0.49985586, 0.49749805,\n",
       "        0.49722454, 0.49984653, 0.51189494, 0.50854859, 0.48904798,\n",
       "        0.50469795, 0.50928396, 0.50540469, 0.50347485, 0.51402293,\n",
       "        0.51058516, 0.51071654, 0.50953404, 0.49600261, 0.49074309,\n",
       "        0.51251688, 0.50789932, 0.50118401, 0.49922072, 0.48875443,\n",
       "        0.48091392, 0.50458661, 0.49904195, 0.49830879, 0.50772044,\n",
       "        0.5051663 , 0.51225833, 0.4960907 , 0.513524  , 0.48749015,\n",
       "        0.48772771, 0.47820246, 0.50094554, 0.48520339, 0.49142105,\n",
       "        0.50297217, 0.49987398, 0.4921957 , 0.48295836, 0.50399313,\n",
       "        0.50118123, 0.49402751, 0.51198403, 0.49872305, 0.49878294,\n",
       "        0.52909178, 0.48447039, 0.50754741, 0.49994765, 0.51251494,\n",
       "        0.49236474, 0.49936542, 0.49703534, 0.48298929, 0.4982466 ,\n",
       "        0.49744578, 0.49815198, 0.48854973, 0.50713591, 0.50202388,\n",
       "        0.50766038, 0.49418367, 0.51123765, 0.50333229, 0.50565368,\n",
       "        0.49871462, 0.49460998, 0.49485441, 0.5015325 , 0.49176079,\n",
       "        0.5185505 , 0.49853349, 0.50503967, 0.49407272, 0.50195346,\n",
       "        0.47535135, 0.49767786, 0.50171436, 0.49878649, 0.48356248,\n",
       "        0.49083617, 0.50246678, 0.5059261 , 0.50891287, 0.51236397,\n",
       "        0.49447726, 0.5197165 , 0.51830256, 0.49215762, 0.49174015]),\n",
       " 'batch_var': array([0.08223934, 0.0803879 , 0.0858986 , 0.08085302, 0.08671626,\n",
       "        0.08207059, 0.08644668, 0.08558224, 0.08210368, 0.08555815,\n",
       "        0.0854447 , 0.08333975, 0.08183173, 0.08763326, 0.08311022,\n",
       "        0.08055973, 0.08336481, 0.08297023, 0.08167238, 0.08176421,\n",
       "        0.08197208, 0.07948756, 0.0835726 , 0.08452992, 0.082806  ,\n",
       "        0.08198833, 0.08360589, 0.08237221, 0.08582664, 0.08453208,\n",
       "        0.08371868, 0.08260029, 0.08209349, 0.08183714, 0.08336721,\n",
       "        0.08333729, 0.08064201, 0.08022371, 0.08162397, 0.08564203,\n",
       "        0.08100535, 0.08316136, 0.08211752, 0.08552746, 0.08086717,\n",
       "        0.0821518 , 0.08526108, 0.08883975, 0.07793614, 0.08548944,\n",
       "        0.08511719, 0.08256972, 0.08098125, 0.0842515 , 0.08408036,\n",
       "        0.08323079, 0.0822529 , 0.08300585, 0.07751315, 0.08203151,\n",
       "        0.08491665, 0.08033246, 0.0819775 , 0.08369853, 0.08283802,\n",
       "        0.08260761, 0.08276445, 0.07869371, 0.08190782, 0.08621228,\n",
       "        0.08270007, 0.08615803, 0.08317271, 0.08600878, 0.0797428 ,\n",
       "        0.08355875, 0.08359469, 0.08475207, 0.08555929, 0.08130916,\n",
       "        0.08008698, 0.08273249, 0.08212556, 0.08146556, 0.08156034,\n",
       "        0.08098955, 0.08632326, 0.08247239, 0.08521055, 0.08450199,\n",
       "        0.08335381, 0.08567094, 0.0836265 , 0.07876016, 0.08408306,\n",
       "        0.08482487, 0.08034537, 0.08880753, 0.08119174, 0.08560514]),\n",
       " 'batch_size': 1000,\n",
       " 'x': array([[0.46687201, 0.52520553, 0.60696475, ..., 0.10461771, 0.24659751,\n",
       "         0.71274733],\n",
       "        [0.27370005, 0.39251894, 0.79708327, ..., 0.5432084 , 0.18728014,\n",
       "         0.48410359],\n",
       "        [0.04563614, 0.03838996, 0.57990425, ..., 0.01864631, 0.62945257,\n",
       "         0.44017594],\n",
       "        ...,\n",
       "        [0.63167841, 0.57301786, 0.86344436, ..., 0.67168824, 0.28684103,\n",
       "         0.68703544],\n",
       "        [0.15120037, 0.52187438, 0.99620125, ..., 0.19374478, 0.36009669,\n",
       "         0.34643915],\n",
       "        [0.57267697, 0.73891702, 0.03266779, ..., 0.38600612, 0.64822059,\n",
       "         0.65423925]]),\n",
       " 'x_norm': array([[-0.1277888 ,  0.0546097 ,  0.36237668, ..., -1.38809847,\n",
       "         -0.86173782,  0.7553202 ],\n",
       "        [-0.80135125, -0.41334592,  1.01102024, ...,  0.08357028,\n",
       "         -1.06989877, -0.02609892],\n",
       "        [-1.59657686, -1.66227886,  0.27005209, ..., -1.67657112,\n",
       "          0.48180566, -0.17622724],\n",
       "        ...,\n",
       "        [ 0.44686707,  0.22323299,  1.23743002, ...,  0.51467784,\n",
       "         -0.72051227,  0.66744656],\n",
       "        [-1.22848977,  0.0428615 ,  1.69036804, ..., -1.08903711,\n",
       "         -0.46343806, -0.49658469],\n",
       "        [ 0.24113764,  0.80832186, -1.59700118, ..., -0.44391398,\n",
       "          0.5476678 ,  0.55536138]])}"
      ]
     },
     "execution_count": 126,
     "metadata": {},
     "output_type": "execute_result"
    }
   ],
   "source": [
    "model.__dict__"
   ]
  },
  {
   "cell_type": "code",
   "execution_count": 127,
   "metadata": {},
   "outputs": [
    {
     "data": {
      "text/plain": [
       "<matplotlib.legend.Legend at 0x7f816452e550>"
      ]
     },
     "execution_count": 127,
     "metadata": {},
     "output_type": "execute_result"
    },
    {
     "data": {
      "image/png": "[encoded data removed]",
      "text/plain": [
       "<Figure size 640x480 with 1 Axes>"
      ]
     },
     "metadata": {},
     "output_type": "display_data"
    }
   ],
   "source": [
    "sns.distplot(X, label='X' , hist=False)\n",
    "sns.distplot(dout, label='dout' , hist=False)\n",
    "plt.legend( loc='upper right')"
   ]
  },
  {
   "cell_type": "code",
   "execution_count": 29,
   "metadata": {},
   "outputs": [],
   "source": [
    "# step 1 \n",
    "X = np.random.random((100, 1))\n",
    "df = pd.DataFrame(X, columns = ['X'])"
   ]
  },
  {
   "cell_type": "code",
   "execution_count": 30,
   "metadata": {},
   "outputs": [
    {
     "data": {
      "application/vnd.plotly.v1+json": {
       "config": {
        "linkText": "Export to plot.ly",
        "plotlyServerURL": "https://plot.ly",
        "showLink": true
       },
       "data": [
        {
         "line": {
          "color": "rgba(255, 153, 51, 1.0)",
          "dash": "solid",
          "shape": "linear",
          "width": 1.3
         },
         "mode": "lines",
         "name": "X",
         "text": "",
         "type": "scatter",
         "x": [
          0,
          1,
          2,
          3,
          4,
          5,
          6,
          7,
          8,
          9,
          10,
          11,
          12,
          13,
          14,
          15,
          16,
          17,
          18,
          19,
          20,
          21,
          22,
          23,
          24,
          25,
          26,
          27,
          28,
          29,
          30,
          31,
          32,
          33,
          34,
          35,
          36,
          37,
          38,
          39,
          40,
          41,
          42,
          43,
          44,
          45,
          46,
          47,
          48,
          49,
          50,
          51,
          52,
          53,
          54,
          55,
          56,
          57,
          58,
          59,
          60,
          61,
          62,
          63,
          64,
          65,
          66,
          67,
          68,
          69,
          70,
          71,
          72,
          73,
          74,
          75,
          76,
          77,
          78,
          79,
          80,
          81,
          82,
          83,
          84,
          85,
          86,
          87,
          88,
          89,
          90,
          91,
          92,
          93,
          94,
          95,
          96,
          97,
          98,
          99
         ],
         "y": [
          0.3097348567056859,
          0.2563794837744511,
          0.5533438332876807,
          0.48716834800955133,
          0.39868926219453316,
          0.3290656897847125,
          0.5272714031791191,
          0.3736303674823417,
          0.5823011364827643,
          0.1689666843759673,
          0.6052344827833662,
          0.9242600076061901,
          0.4726231485769,
          0.7543383730451465,
          0.43791315347574444,
          0.3125106022079621,
          0.5548837043738546,
          0.09368247552341058,
          0.2316418564813072,
          0.4152325795894435,
          0.2248985421225378,
          0.8844386401630564,
          0.9411478594374086,
          0.5635656835503997,
          0.15510591468172596,
          0.8424539716138887,
          0.2808047927580163,
          0.1571035393126935,
          0.8423913482988326,
          0.08201367040710072,
          0.8013143195426907,
          0.31521028524782435,
          0.7852743202668163,
          0.4147726510320727,
          0.8434459882724799,
          0.4237095399416797,
          0.2663122140227545,
          0.631468808538856,
          0.47428681821906216,
          0.9023421960953509,
          0.5539669267774684,
          0.8518578479509457,
          0.18118112955908838,
          0.7784570448914233,
          0.34659182262255717,
          0.23292523044275393,
          0.17977182785107604,
          0.93546935430609,
          0.8235361864024957,
          0.3402117177070454,
          0.802655013193516,
          0.21892210106388366,
          0.6515099487590544,
          0.7081872809817902,
          0.9572069234168175,
          0.7164127606498969,
          0.7435253200538369,
          0.4349835942250726,
          0.2698148388694568,
          0.9541703705523283,
          0.1590822128870838,
          0.3174261563853439,
          0.6095301552703761,
          0.11892021328087665,
          0.8811277134589036,
          0.11067545430407044,
          0.7106080154528254,
          0.5959870511750666,
          0.027687197632901173,
          0.4453592822549758,
          0.11766661630136765,
          0.8965363308942279,
          0.863233840904927,
          0.041543544372286245,
          0.7799785100909297,
          0.4323626095245915,
          0.16102124802845497,
          0.8967149215515264,
          0.06529735244064827,
          0.9961291028458248,
          0.210523780597893,
          0.11582239033020969,
          0.053364650902681166,
          0.2801018001438177,
          0.8354101521792535,
          0.9094364276772232,
          0.896285279496724,
          0.1460881440802373,
          0.5662950476782744,
          0.5706852572329277,
          0.9021799615643123,
          0.030491277161015518,
          0.34544519871873436,
          0.49094637592244594,
          0.7792586285041028,
          0.639199160189164,
          0.8353419862268564,
          0.34135319413989207,
          0.9986748340894852,
          0.3257431594748921
         ]
        }
       ],
       "layout": {
        "legend": {
         "bgcolor": "#F5F6F9",
         "font": {
          "color": "#4D5663"
         }
        },
        "paper_bgcolor": "#F5F6F9",
        "plot_bgcolor": "#F5F6F9",
        "template": {
         "data": {
          "bar": [
           {
            "error_x": {
             "color": "#2a3f5f"
            },
            "error_y": {
             "color": "#2a3f5f"
            },
            "marker": {
             "line": {
              "color": "#E5ECF6",
              "width": 0.5
             },
             "pattern": {
              "fillmode": "overlay",
              "size": 10,
              "solidity": 0.2
             }
            },
            "type": "bar"
           }
          ],
          "barpolar": [
           {
            "marker": {
             "line": {
              "color": "#E5ECF6",
              "width": 0.5
             },
             "pattern": {
              "fillmode": "overlay",
              "size": 10,
              "solidity": 0.2
             }
            },
            "type": "barpolar"
           }
          ],
          "carpet": [
           {
            "aaxis": {
             "endlinecolor": "#2a3f5f",
             "gridcolor": "white",
             "linecolor": "white",
             "minorgridcolor": "white",
             "startlinecolor": "#2a3f5f"
            },
            "baxis": {
             "endlinecolor": "#2a3f5f",
             "gridcolor": "white",
             "linecolor": "white",
             "minorgridcolor": "white",
             "startlinecolor": "#2a3f5f"
            },
            "type": "carpet"
           }
          ],
          "choropleth": [
           {
            "colorbar": {
             "outlinewidth": 0,
             "ticks": ""
            },
            "type": "choropleth"
           }
          ],
          "contour": [
           {
            "colorbar": {
             "outlinewidth": 0,
             "ticks": ""
            },
            "colorscale": [
             [
              0,
              "#0d0887"
             ],
             [
              0.1111111111111111,
              "#46039f"
             ],
             [
              0.2222222222222222,
              "#7201a8"
             ],
             [
              0.3333333333333333,
              "#9c179e"
             ],
             [
              0.4444444444444444,
              "#bd3786"
             ],
             [
              0.5555555555555556,
              "#d8576b"
             ],
             [
              0.6666666666666666,
              "#ed7953"
             ],
             [
              0.7777777777777778,
              "#fb9f3a"
             ],
             [
              0.8888888888888888,
              "#fdca26"
             ],
             [
              1,
              "#f0f921"
             ]
            ],
            "type": "contour"
           }
          ],
          "contourcarpet": [
           {
            "colorbar": {
             "outlinewidth": 0,
             "ticks": ""
            },
            "type": "contourcarpet"
           }
          ],
          "heatmap": [
           {
            "colorbar": {
             "outlinewidth": 0,
             "ticks": ""
            },
            "colorscale": [
             [
              0,
              "#0d0887"
             ],
             [
              0.1111111111111111,
              "#46039f"
             ],
             [
              0.2222222222222222,
              "#7201a8"
             ],
             [
              0.3333333333333333,
              "#9c179e"
             ],
             [
              0.4444444444444444,
              "#bd3786"
             ],
             [
              0.5555555555555556,
              "#d8576b"
             ],
             [
              0.6666666666666666,
              "#ed7953"
             ],
             [
              0.7777777777777778,
              "#fb9f3a"
             ],
             [
              0.8888888888888888,
              "#fdca26"
             ],
             [
              1,
              "#f0f921"
             ]
            ],
            "type": "heatmap"
           }
          ],
          "heatmapgl": [
           {
            "colorbar": {
             "outlinewidth": 0,
             "ticks": ""
            },
            "colorscale": [
             [
              0,
              "#0d0887"
             ],
             [
              0.1111111111111111,
              "#46039f"
             ],
             [
              0.2222222222222222,
              "#7201a8"
             ],
             [
              0.3333333333333333,
              "#9c179e"
             ],
             [
              0.4444444444444444,
              "#bd3786"
             ],
             [
              0.5555555555555556,
              "#d8576b"
             ],
             [
              0.6666666666666666,
              "#ed7953"
             ],
             [
              0.7777777777777778,
              "#fb9f3a"
             ],
             [
              0.8888888888888888,
              "#fdca26"
             ],
             [
              1,
              "#f0f921"
             ]
            ],
            "type": "heatmapgl"
           }
          ],
          "histogram": [
           {
            "marker": {
             "pattern": {
              "fillmode": "overlay",
              "size": 10,
              "solidity": 0.2
             }
            },
            "type": "histogram"
           }
          ],
          "histogram2d": [
           {
            "colorbar": {
             "outlinewidth": 0,
             "ticks": ""
            },
            "colorscale": [
             [
              0,
              "#0d0887"
             ],
             [
              0.1111111111111111,
              "#46039f"
             ],
             [
              0.2222222222222222,
              "#7201a8"
             ],
             [
              0.3333333333333333,
              "#9c179e"
             ],
             [
              0.4444444444444444,
              "#bd3786"
             ],
             [
              0.5555555555555556,
              "#d8576b"
             ],
             [
              0.6666666666666666,
              "#ed7953"
             ],
             [
              0.7777777777777778,
              "#fb9f3a"
             ],
             [
              0.8888888888888888,
              "#fdca26"
             ],
             [
              1,
              "#f0f921"
             ]
            ],
            "type": "histogram2d"
           }
          ],
          "histogram2dcontour": [
           {
            "colorbar": {
             "outlinewidth": 0,
             "ticks": ""
            },
            "colorscale": [
             [
              0,
              "#0d0887"
             ],
             [
              0.1111111111111111,
              "#46039f"
             ],
             [
              0.2222222222222222,
              "#7201a8"
             ],
             [
              0.3333333333333333,
              "#9c179e"
             ],
             [
              0.4444444444444444,
              "#bd3786"
             ],
             [
              0.5555555555555556,
              "#d8576b"
             ],
             [
              0.6666666666666666,
              "#ed7953"
             ],
             [
              0.7777777777777778,
              "#fb9f3a"
             ],
             [
              0.8888888888888888,
              "#fdca26"
             ],
             [
              1,
              "#f0f921"
             ]
            ],
            "type": "histogram2dcontour"
           }
          ],
          "mesh3d": [
           {
            "colorbar": {
             "outlinewidth": 0,
             "ticks": ""
            },
            "type": "mesh3d"
           }
          ],
          "parcoords": [
           {
            "line": {
             "colorbar": {
              "outlinewidth": 0,
              "ticks": ""
             }
            },
            "type": "parcoords"
           }
          ],
          "pie": [
           {
            "automargin": true,
            "type": "pie"
           }
          ],
          "scatter": [
           {
            "fillpattern": {
             "fillmode": "overlay",
             "size": 10,
             "solidity": 0.2
            },
            "type": "scatter"
           }
          ],
          "scatter3d": [
           {
            "line": {
             "colorbar": {
              "outlinewidth": 0,
              "ticks": ""
             }
            },
            "marker": {
             "colorbar": {
              "outlinewidth": 0,
              "ticks": ""
             }
            },
            "type": "scatter3d"
           }
          ],
          "scattercarpet": [
           {
            "marker": {
             "colorbar": {
              "outlinewidth": 0,
              "ticks": ""
             }
            },
            "type": "scattercarpet"
           }
          ],
          "scattergeo": [
           {
            "marker": {
             "colorbar": {
              "outlinewidth": 0,
              "ticks": ""
             }
            },
            "type": "scattergeo"
           }
          ],
          "scattergl": [
           {
            "marker": {
             "colorbar": {
              "outlinewidth": 0,
              "ticks": ""
             }
            },
            "type": "scattergl"
           }
          ],
          "scattermapbox": [
           {
            "marker": {
             "colorbar": {
              "outlinewidth": 0,
              "ticks": ""
             }
            },
            "type": "scattermapbox"
           }
          ],
          "scatterpolar": [
           {
            "marker": {
             "colorbar": {
              "outlinewidth": 0,
              "ticks": ""
             }
            },
            "type": "scatterpolar"
           }
          ],
          "scatterpolargl": [
           {
            "marker": {
             "colorbar": {
              "outlinewidth": 0,
              "ticks": ""
             }
            },
            "type": "scatterpolargl"
           }
          ],
          "scatterternary": [
           {
            "marker": {
             "colorbar": {
              "outlinewidth": 0,
              "ticks": ""
             }
            },
            "type": "scatterternary"
           }
          ],
          "surface": [
           {
            "colorbar": {
             "outlinewidth": 0,
             "ticks": ""
            },
            "colorscale": [
             [
              0,
              "#0d0887"
             ],
             [
              0.1111111111111111,
              "#46039f"
             ],
             [
              0.2222222222222222,
              "#7201a8"
             ],
             [
              0.3333333333333333,
              "#9c179e"
             ],
             [
              0.4444444444444444,
              "#bd3786"
             ],
             [
              0.5555555555555556,
              "#d8576b"
             ],
             [
              0.6666666666666666,
              "#ed7953"
             ],
             [
              0.7777777777777778,
              "#fb9f3a"
             ],
             [
              0.8888888888888888,
              "#fdca26"
             ],
             [
              1,
              "#f0f921"
             ]
            ],
            "type": "surface"
           }
          ],
          "table": [
           {
            "cells": {
             "fill": {
              "color": "#EBF0F8"
             },
             "line": {
              "color": "white"
             }
            },
            "header": {
             "fill": {
              "color": "#C8D4E3"
             },
             "line": {
              "color": "white"
             }
            },
            "type": "table"
           }
          ]
         },
         "layout": {
          "annotationdefaults": {
           "arrowcolor": "#2a3f5f",
           "arrowhead": 0,
           "arrowwidth": 1
          },
          "autotypenumbers": "strict",
          "coloraxis": {
           "colorbar": {
            "outlinewidth": 0,
            "ticks": ""
           }
          },
          "colorscale": {
           "diverging": [
            [
             0,
             "#8e0152"
            ],
            [
             0.1,
             "#c51b7d"
            ],
            [
             0.2,
             "#de77ae"
            ],
            [
             0.3,
             "#f1b6da"
            ],
            [
             0.4,
             "#fde0ef"
            ],
            [
             0.5,
             "#f7f7f7"
            ],
            [
             0.6,
             "#e6f5d0"
            ],
            [
             0.7,
             "#b8e186"
            ],
            [
             0.8,
             "#7fbc41"
            ],
            [
             0.9,
             "#4d9221"
            ],
            [
             1,
             "#276419"
            ]
           ],
           "sequential": [
            [
             0,
             "#0d0887"
            ],
            [
             0.1111111111111111,
             "#46039f"
            ],
            [
             0.2222222222222222,
             "#7201a8"
            ],
            [
             0.3333333333333333,
             "#9c179e"
            ],
            [
             0.4444444444444444,
             "#bd3786"
            ],
            [
             0.5555555555555556,
             "#d8576b"
            ],
            [
             0.6666666666666666,
             "#ed7953"
            ],
            [
             0.7777777777777778,
             "#fb9f3a"
            ],
            [
             0.8888888888888888,
             "#fdca26"
            ],
            [
             1,
             "#f0f921"
            ]
           ],
           "sequentialminus": [
            [
             0,
             "#0d0887"
            ],
            [
             0.1111111111111111,
             "#46039f"
            ],
            [
             0.2222222222222222,
             "#7201a8"
            ],
            [
             0.3333333333333333,
             "#9c179e"
            ],
            [
             0.4444444444444444,
             "#bd3786"
            ],
            [
             0.5555555555555556,
             "#d8576b"
            ],
            [
             0.6666666666666666,
             "#ed7953"
            ],
            [
             0.7777777777777778,
             "#fb9f3a"
            ],
            [
             0.8888888888888888,
             "#fdca26"
            ],
            [
             1,
             "#f0f921"
            ]
           ]
          },
          "colorway": [
           "#636efa",
           "#EF553B",
           "#00cc96",
           "#ab63fa",
           "#FFA15A",
           "#19d3f3",
           "#FF6692",
           "#B6E880",
           "#FF97FF",
           "#FECB52"
          ],
          "font": {
           "color": "#2a3f5f"
          },
          "geo": {
           "bgcolor": "white",
           "lakecolor": "white",
           "landcolor": "#E5ECF6",
           "showlakes": true,
           "showland": true,
           "subunitcolor": "white"
          },
          "hoverlabel": {
           "align": "left"
          },
          "hovermode": "closest",
          "mapbox": {
           "style": "light"
          },
          "paper_bgcolor": "white",
          "plot_bgcolor": "#E5ECF6",
          "polar": {
           "angularaxis": {
            "gridcolor": "white",
            "linecolor": "white",
            "ticks": ""
           },
           "bgcolor": "#E5ECF6",
           "radialaxis": {
            "gridcolor": "white",
            "linecolor": "white",
            "ticks": ""
           }
          },
          "scene": {
           "xaxis": {
            "backgroundcolor": "#E5ECF6",
            "gridcolor": "white",
            "gridwidth": 2,
            "linecolor": "white",
            "showbackground": true,
            "ticks": "",
            "zerolinecolor": "white"
           },
           "yaxis": {
            "backgroundcolor": "#E5ECF6",
            "gridcolor": "white",
            "gridwidth": 2,
            "linecolor": "white",
            "showbackground": true,
            "ticks": "",
            "zerolinecolor": "white"
           },
           "zaxis": {
            "backgroundcolor": "#E5ECF6",
            "gridcolor": "white",
            "gridwidth": 2,
            "linecolor": "white",
            "showbackground": true,
            "ticks": "",
            "zerolinecolor": "white"
           }
          },
          "shapedefaults": {
           "line": {
            "color": "#2a3f5f"
           }
          },
          "ternary": {
           "aaxis": {
            "gridcolor": "white",
            "linecolor": "white",
            "ticks": ""
           },
           "baxis": {
            "gridcolor": "white",
            "linecolor": "white",
            "ticks": ""
           },
           "bgcolor": "#E5ECF6",
           "caxis": {
            "gridcolor": "white",
            "linecolor": "white",
            "ticks": ""
           }
          },
          "title": {
           "x": 0.05
          },
          "xaxis": {
           "automargin": true,
           "gridcolor": "white",
           "linecolor": "white",
           "ticks": "",
           "title": {
            "standoff": 15
           },
           "zerolinecolor": "white",
           "zerolinewidth": 2
          },
          "yaxis": {
           "automargin": true,
           "gridcolor": "white",
           "linecolor": "white",
           "ticks": "",
           "title": {
            "standoff": 15
           },
           "zerolinecolor": "white",
           "zerolinewidth": 2
          }
         }
        },
        "title": {
         "font": {
          "color": "#4D5663"
         }
        },
        "xaxis": {
         "gridcolor": "#E1E5ED",
         "showgrid": true,
         "tickfont": {
          "color": "#4D5663"
         },
         "title": {
          "font": {
           "color": "#4D5663"
          },
          "text": ""
         },
         "zerolinecolor": "#E1E5ED"
        },
        "yaxis": {
         "gridcolor": "#E1E5ED",
         "showgrid": true,
         "tickfont": {
          "color": "#4D5663"
         },
         "title": {
          "font": {
           "color": "#4D5663"
          },
          "text": ""
         },
         "zerolinecolor": "#E1E5ED"
        }
       }
      },
      "text/html": [
       "<div>                            <div id=\"2db48142-c2f9-498e-ae75-4c30970aa1bd\" class=\"plotly-graph-div\" style=\"height:525px; width:100%;\"></div>            <script type=\"text/javascript\">                require([\"plotly\"], function(Plotly) {                    window.PLOTLYENV=window.PLOTLYENV || {};\n",
       "                    window.PLOTLYENV.BASE_URL='https://plot.ly';                                    if (document.getElementById(\"2db48142-c2f9-498e-ae75-4c30970aa1bd\")) {                    Plotly.newPlot(                        \"2db48142-c2f9-498e-ae75-4c30970aa1bd\",                        [{\"line\":{\"color\":\"rgba(255, 153, 51, 1.0)\",\"dash\":\"solid\",\"shape\":\"linear\",\"width\":1.3},\"mode\":\"lines\",\"name\":\"X\",\"text\":\"\",\"x\":[0,1,2,3,4,5,6,7,8,9,10,11,12,13,14,15,16,17,18,19,20,21,22,23,24,25,26,27,28,29,30,31,32,33,34,35,36,37,38,39,40,41,42,43,44,45,46,47,48,49,50,51,52,53,54,55,56,57,58,59,60,61,62,63,64,65,66,67,68,69,70,71,72,73,74,75,76,77,78,79,80,81,82,83,84,85,86,87,88,89,90,91,92,93,94,95,96,97,98,99],\"y\":[0.3097348567056859,0.2563794837744511,0.5533438332876807,0.48716834800955133,0.39868926219453316,0.3290656897847125,0.5272714031791191,0.3736303674823417,0.5823011364827643,0.1689666843759673,0.6052344827833662,0.9242600076061901,0.4726231485769,0.7543383730451465,0.43791315347574444,0.3125106022079621,0.5548837043738546,0.09368247552341058,0.2316418564813072,0.4152325795894435,0.2248985421225378,0.8844386401630564,0.9411478594374086,0.5635656835503997,0.15510591468172596,0.8424539716138887,0.2808047927580163,0.1571035393126935,0.8423913482988326,0.08201367040710072,0.8013143195426907,0.31521028524782435,0.7852743202668163,0.4147726510320727,0.8434459882724799,0.4237095399416797,0.2663122140227545,0.631468808538856,0.47428681821906216,0.9023421960953509,0.5539669267774684,0.8518578479509457,0.18118112955908838,0.7784570448914233,0.34659182262255717,0.23292523044275393,0.17977182785107604,0.93546935430609,0.8235361864024957,0.3402117177070454,0.802655013193516,0.21892210106388366,0.6515099487590544,0.7081872809817902,0.9572069234168175,0.7164127606498969,0.7435253200538369,0.4349835942250726,0.2698148388694568,0.9541703705523283,0.1590822128870838,0.3174261563853439,0.6095301552703761,0.11892021328087665,0.8811277134589036,0.11067545430407044,0.7106080154528254,0.5959870511750666,0.027687197632901173,0.4453592822549758,0.11766661630136765,0.8965363308942279,0.863233840904927,0.041543544372286245,0.7799785100909297,0.4323626095245915,0.16102124802845497,0.8967149215515264,0.06529735244064827,0.9961291028458248,0.210523780597893,0.11582239033020969,0.053364650902681166,0.2801018001438177,0.8354101521792535,0.9094364276772232,0.896285279496724,0.1460881440802373,0.5662950476782744,0.5706852572329277,0.9021799615643123,0.030491277161015518,0.34544519871873436,0.49094637592244594,0.7792586285041028,0.639199160189164,0.8353419862268564,0.34135319413989207,0.9986748340894852,0.3257431594748921],\"type\":\"scatter\"}],                        {\"legend\":{\"bgcolor\":\"#F5F6F9\",\"font\":{\"color\":\"#4D5663\"}},\"paper_bgcolor\":\"#F5F6F9\",\"plot_bgcolor\":\"#F5F6F9\",\"template\":{\"data\":{\"barpolar\":[{\"marker\":{\"line\":{\"color\":\"#E5ECF6\",\"width\":0.5},\"pattern\":{\"fillmode\":\"overlay\",\"size\":10,\"solidity\":0.2}},\"type\":\"barpolar\"}],\"bar\":[{\"error_x\":{\"color\":\"#2a3f5f\"},\"error_y\":{\"color\":\"#2a3f5f\"},\"marker\":{\"line\":{\"color\":\"#E5ECF6\",\"width\":0.5},\"pattern\":{\"fillmode\":\"overlay\",\"size\":10,\"solidity\":0.2}},\"type\":\"bar\"}],\"carpet\":[{\"aaxis\":{\"endlinecolor\":\"#2a3f5f\",\"gridcolor\":\"white\",\"linecolor\":\"white\",\"minorgridcolor\":\"white\",\"startlinecolor\":\"#2a3f5f\"},\"baxis\":{\"endlinecolor\":\"#2a3f5f\",\"gridcolor\":\"white\",\"linecolor\":\"white\",\"minorgridcolor\":\"white\",\"startlinecolor\":\"#2a3f5f\"},\"type\":\"carpet\"}],\"choropleth\":[{\"colorbar\":{\"outlinewidth\":0,\"ticks\":\"\"},\"type\":\"choropleth\"}],\"contourcarpet\":[{\"colorbar\":{\"outlinewidth\":0,\"ticks\":\"\"},\"type\":\"contourcarpet\"}],\"contour\":[{\"colorbar\":{\"outlinewidth\":0,\"ticks\":\"\"},\"colorscale\":[[0.0,\"#0d0887\"],[0.1111111111111111,\"#46039f\"],[0.2222222222222222,\"#7201a8\"],[0.3333333333333333,\"#9c179e\"],[0.4444444444444444,\"#bd3786\"],[0.5555555555555556,\"#d8576b\"],[0.6666666666666666,\"#ed7953\"],[0.7777777777777778,\"#fb9f3a\"],[0.8888888888888888,\"#fdca26\"],[1.0,\"#f0f921\"]],\"type\":\"contour\"}],\"heatmapgl\":[{\"colorbar\":{\"outlinewidth\":0,\"ticks\":\"\"},\"colorscale\":[[0.0,\"#0d0887\"],[0.1111111111111111,\"#46039f\"],[0.2222222222222222,\"#7201a8\"],[0.3333333333333333,\"#9c179e\"],[0.4444444444444444,\"#bd3786\"],[0.5555555555555556,\"#d8576b\"],[0.6666666666666666,\"#ed7953\"],[0.7777777777777778,\"#fb9f3a\"],[0.8888888888888888,\"#fdca26\"],[1.0,\"#f0f921\"]],\"type\":\"heatmapgl\"}],\"heatmap\":[{\"colorbar\":{\"outlinewidth\":0,\"ticks\":\"\"},\"colorscale\":[[0.0,\"#0d0887\"],[0.1111111111111111,\"#46039f\"],[0.2222222222222222,\"#7201a8\"],[0.3333333333333333,\"#9c179e\"],[0.4444444444444444,\"#bd3786\"],[0.5555555555555556,\"#d8576b\"],[0.6666666666666666,\"#ed7953\"],[0.7777777777777778,\"#fb9f3a\"],[0.8888888888888888,\"#fdca26\"],[1.0,\"#f0f921\"]],\"type\":\"heatmap\"}],\"histogram2dcontour\":[{\"colorbar\":{\"outlinewidth\":0,\"ticks\":\"\"},\"colorscale\":[[0.0,\"#0d0887\"],[0.1111111111111111,\"#46039f\"],[0.2222222222222222,\"#7201a8\"],[0.3333333333333333,\"#9c179e\"],[0.4444444444444444,\"#bd3786\"],[0.5555555555555556,\"#d8576b\"],[0.6666666666666666,\"#ed7953\"],[0.7777777777777778,\"#fb9f3a\"],[0.8888888888888888,\"#fdca26\"],[1.0,\"#f0f921\"]],\"type\":\"histogram2dcontour\"}],\"histogram2d\":[{\"colorbar\":{\"outlinewidth\":0,\"ticks\":\"\"},\"colorscale\":[[0.0,\"#0d0887\"],[0.1111111111111111,\"#46039f\"],[0.2222222222222222,\"#7201a8\"],[0.3333333333333333,\"#9c179e\"],[0.4444444444444444,\"#bd3786\"],[0.5555555555555556,\"#d8576b\"],[0.6666666666666666,\"#ed7953\"],[0.7777777777777778,\"#fb9f3a\"],[0.8888888888888888,\"#fdca26\"],[1.0,\"#f0f921\"]],\"type\":\"histogram2d\"}],\"histogram\":[{\"marker\":{\"pattern\":{\"fillmode\":\"overlay\",\"size\":10,\"solidity\":0.2}},\"type\":\"histogram\"}],\"mesh3d\":[{\"colorbar\":{\"outlinewidth\":0,\"ticks\":\"\"},\"type\":\"mesh3d\"}],\"parcoords\":[{\"line\":{\"colorbar\":{\"outlinewidth\":0,\"ticks\":\"\"}},\"type\":\"parcoords\"}],\"pie\":[{\"automargin\":true,\"type\":\"pie\"}],\"scatter3d\":[{\"line\":{\"colorbar\":{\"outlinewidth\":0,\"ticks\":\"\"}},\"marker\":{\"colorbar\":{\"outlinewidth\":0,\"ticks\":\"\"}},\"type\":\"scatter3d\"}],\"scattercarpet\":[{\"marker\":{\"colorbar\":{\"outlinewidth\":0,\"ticks\":\"\"}},\"type\":\"scattercarpet\"}],\"scattergeo\":[{\"marker\":{\"colorbar\":{\"outlinewidth\":0,\"ticks\":\"\"}},\"type\":\"scattergeo\"}],\"scattergl\":[{\"marker\":{\"colorbar\":{\"outlinewidth\":0,\"ticks\":\"\"}},\"type\":\"scattergl\"}],\"scattermapbox\":[{\"marker\":{\"colorbar\":{\"outlinewidth\":0,\"ticks\":\"\"}},\"type\":\"scattermapbox\"}],\"scatterpolargl\":[{\"marker\":{\"colorbar\":{\"outlinewidth\":0,\"ticks\":\"\"}},\"type\":\"scatterpolargl\"}],\"scatterpolar\":[{\"marker\":{\"colorbar\":{\"outlinewidth\":0,\"ticks\":\"\"}},\"type\":\"scatterpolar\"}],\"scatter\":[{\"fillpattern\":{\"fillmode\":\"overlay\",\"size\":10,\"solidity\":0.2},\"type\":\"scatter\"}],\"scatterternary\":[{\"marker\":{\"colorbar\":{\"outlinewidth\":0,\"ticks\":\"\"}},\"type\":\"scatterternary\"}],\"surface\":[{\"colorbar\":{\"outlinewidth\":0,\"ticks\":\"\"},\"colorscale\":[[0.0,\"#0d0887\"],[0.1111111111111111,\"#46039f\"],[0.2222222222222222,\"#7201a8\"],[0.3333333333333333,\"#9c179e\"],[0.4444444444444444,\"#bd3786\"],[0.5555555555555556,\"#d8576b\"],[0.6666666666666666,\"#ed7953\"],[0.7777777777777778,\"#fb9f3a\"],[0.8888888888888888,\"#fdca26\"],[1.0,\"#f0f921\"]],\"type\":\"surface\"}],\"table\":[{\"cells\":{\"fill\":{\"color\":\"#EBF0F8\"},\"line\":{\"color\":\"white\"}},\"header\":{\"fill\":{\"color\":\"#C8D4E3\"},\"line\":{\"color\":\"white\"}},\"type\":\"table\"}]},\"layout\":{\"annotationdefaults\":{\"arrowcolor\":\"#2a3f5f\",\"arrowhead\":0,\"arrowwidth\":1},\"autotypenumbers\":\"strict\",\"coloraxis\":{\"colorbar\":{\"outlinewidth\":0,\"ticks\":\"\"}},\"colorscale\":{\"diverging\":[[0,\"#8e0152\"],[0.1,\"#c51b7d\"],[0.2,\"#de77ae\"],[0.3,\"#f1b6da\"],[0.4,\"#fde0ef\"],[0.5,\"#f7f7f7\"],[0.6,\"#e6f5d0\"],[0.7,\"#b8e186\"],[0.8,\"#7fbc41\"],[0.9,\"#4d9221\"],[1,\"#276419\"]],\"sequential\":[[0.0,\"#0d0887\"],[0.1111111111111111,\"#46039f\"],[0.2222222222222222,\"#7201a8\"],[0.3333333333333333,\"#9c179e\"],[0.4444444444444444,\"#bd3786\"],[0.5555555555555556,\"#d8576b\"],[0.6666666666666666,\"#ed7953\"],[0.7777777777777778,\"#fb9f3a\"],[0.8888888888888888,\"#fdca26\"],[1.0,\"#f0f921\"]],\"sequentialminus\":[[0.0,\"#0d0887\"],[0.1111111111111111,\"#46039f\"],[0.2222222222222222,\"#7201a8\"],[0.3333333333333333,\"#9c179e\"],[0.4444444444444444,\"#bd3786\"],[0.5555555555555556,\"#d8576b\"],[0.6666666666666666,\"#ed7953\"],[0.7777777777777778,\"#fb9f3a\"],[0.8888888888888888,\"#fdca26\"],[1.0,\"#f0f921\"]]},\"colorway\":[\"#636efa\",\"#EF553B\",\"#00cc96\",\"#ab63fa\",\"#FFA15A\",\"#19d3f3\",\"#FF6692\",\"#B6E880\",\"#FF97FF\",\"#FECB52\"],\"font\":{\"color\":\"#2a3f5f\"},\"geo\":{\"bgcolor\":\"white\",\"lakecolor\":\"white\",\"landcolor\":\"#E5ECF6\",\"showlakes\":true,\"showland\":true,\"subunitcolor\":\"white\"},\"hoverlabel\":{\"align\":\"left\"},\"hovermode\":\"closest\",\"mapbox\":{\"style\":\"light\"},\"paper_bgcolor\":\"white\",\"plot_bgcolor\":\"#E5ECF6\",\"polar\":{\"angularaxis\":{\"gridcolor\":\"white\",\"linecolor\":\"white\",\"ticks\":\"\"},\"bgcolor\":\"#E5ECF6\",\"radialaxis\":{\"gridcolor\":\"white\",\"linecolor\":\"white\",\"ticks\":\"\"}},\"scene\":{\"xaxis\":{\"backgroundcolor\":\"#E5ECF6\",\"gridcolor\":\"white\",\"gridwidth\":2,\"linecolor\":\"white\",\"showbackground\":true,\"ticks\":\"\",\"zerolinecolor\":\"white\"},\"yaxis\":{\"backgroundcolor\":\"#E5ECF6\",\"gridcolor\":\"white\",\"gridwidth\":2,\"linecolor\":\"white\",\"showbackground\":true,\"ticks\":\"\",\"zerolinecolor\":\"white\"},\"zaxis\":{\"backgroundcolor\":\"#E5ECF6\",\"gridcolor\":\"white\",\"gridwidth\":2,\"linecolor\":\"white\",\"showbackground\":true,\"ticks\":\"\",\"zerolinecolor\":\"white\"}},\"shapedefaults\":{\"line\":{\"color\":\"#2a3f5f\"}},\"ternary\":{\"aaxis\":{\"gridcolor\":\"white\",\"linecolor\":\"white\",\"ticks\":\"\"},\"baxis\":{\"gridcolor\":\"white\",\"linecolor\":\"white\",\"ticks\":\"\"},\"bgcolor\":\"#E5ECF6\",\"caxis\":{\"gridcolor\":\"white\",\"linecolor\":\"white\",\"ticks\":\"\"}},\"title\":{\"x\":0.05},\"xaxis\":{\"automargin\":true,\"gridcolor\":\"white\",\"linecolor\":\"white\",\"ticks\":\"\",\"title\":{\"standoff\":15},\"zerolinecolor\":\"white\",\"zerolinewidth\":2},\"yaxis\":{\"automargin\":true,\"gridcolor\":\"white\",\"linecolor\":\"white\",\"ticks\":\"\",\"title\":{\"standoff\":15},\"zerolinecolor\":\"white\",\"zerolinewidth\":2}}},\"title\":{\"font\":{\"color\":\"#4D5663\"}},\"xaxis\":{\"gridcolor\":\"#E1E5ED\",\"showgrid\":true,\"tickfont\":{\"color\":\"#4D5663\"},\"title\":{\"font\":{\"color\":\"#4D5663\"},\"text\":\"\"},\"zerolinecolor\":\"#E1E5ED\"},\"yaxis\":{\"gridcolor\":\"#E1E5ED\",\"showgrid\":true,\"tickfont\":{\"color\":\"#4D5663\"},\"title\":{\"font\":{\"color\":\"#4D5663\"},\"text\":\"\"},\"zerolinecolor\":\"#E1E5ED\"}},                        {\"showLink\": true, \"linkText\": \"Export to plot.ly\", \"plotlyServerURL\": \"https://plot.ly\", \"responsive\": true}                    ).then(function(){\n",
       "                            \n",
       "var gd = document.getElementById('2db48142-c2f9-498e-ae75-4c30970aa1bd');\n",
       "var x = new MutationObserver(function (mutations, observer) {{\n",
       "        var display = window.getComputedStyle(gd).display;\n",
       "        if (!display || display === 'none') {{\n",
       "            console.log([gd, 'removed!']);\n",
       "            Plotly.purge(gd);\n",
       "            observer.disconnect();\n",
       "        }}\n",
       "}});\n",
       "\n",
       "// Listen for the removal of the full notebook cells\n",
       "var notebookContainer = gd.closest('#notebook-container');\n",
       "if (notebookContainer) {{\n",
       "    x.observe(notebookContainer, {childList: true});\n",
       "}}\n",
       "\n",
       "// Listen for the clearing of the current output cell\n",
       "var outputEl = gd.closest('.output');\n",
       "if (outputEl) {{\n",
       "    x.observe(outputEl, {childList: true});\n",
       "}}\n",
       "\n",
       "                        })                };                });            </script>        </div>"
      ]
     },
     "metadata": {},
     "output_type": "display_data"
    }
   ],
   "source": [
    "df.iplot()"
   ]
  },
  {
   "cell_type": "code",
   "execution_count": 37,
   "metadata": {},
   "outputs": [],
   "source": [
    "BATCH_MEAN = np.mean(X)\n",
    "# STEP 2\n",
    "BATCH_VAR = np.var(X)"
   ]
  },
  {
   "cell_type": "code",
   "execution_count": 38,
   "metadata": {},
   "outputs": [
    {
     "data": {
      "text/plain": [
       "(0.5080182402810933, 0.08424317306834761)"
      ]
     },
     "execution_count": 38,
     "metadata": {},
     "output_type": "execute_result"
    }
   ],
   "source": [
    "BATCH_MEAN , BATCH_VAR"
   ]
  },
  {
   "cell_type": "code",
   "execution_count": 42,
   "metadata": {},
   "outputs": [],
   "source": [
    "EPSILON = 1e-8"
   ]
  },
  {
   "cell_type": "code",
   "execution_count": 43,
   "metadata": {},
   "outputs": [],
   "source": [
    "# step 3\n",
    "\n",
    "df['X_norm'] = (df['X'] - BATCH_MEAN) / math.sqrt(BATCH_VAR + EPSILON)"
   ]
  },
  {
   "cell_type": "code",
   "execution_count": 62,
   "metadata": {},
   "outputs": [
    {
     "data": {
      "image/png": "[encoded data removed]",
      "text/plain": [
       "<Figure size 1000x600 with 1 Axes>"
      ]
     },
     "metadata": {},
     "output_type": "display_data"
    }
   ],
   "source": [
    "fig = plt.figure(figsize=(10,6))\n",
    "sns.distplot(df[\"X\"] , hist=False ,  label= \"X\")\n",
    "sns.distplot(df[\"X_norm\"] , hist=False , label= \"X_norm\")\n",
    "plt.legend(labels = ['X', 'X_norm'])\n",
    "plt.show()\n"
   ]
  },
  {
   "cell_type": "code",
   "execution_count": 64,
   "metadata": {},
   "outputs": [],
   "source": [
    "df[\"gamma\"] = 0.7 * df[\"X_norm\"]"
   ]
  },
  {
   "cell_type": "code",
   "execution_count": 66,
   "metadata": {},
   "outputs": [
    {
     "data": {
      "text/plain": [
       "<matplotlib.legend.Legend at 0x7f815ba65e80>"
      ]
     },
     "execution_count": 66,
     "metadata": {},
     "output_type": "execute_result"
    },
    {
     "data": {
      "image/png": "[encoded data removed]",
      "text/plain": [
       "<Figure size 640x480 with 1 Axes>"
      ]
     },
     "metadata": {},
     "output_type": "display_data"
    }
   ],
   "source": [
    "sns.distplot(df[\"X_norm\"] , hist=False , label= \"X_norm\")\n",
    "sns.distplot(df[\"gamma\"] , hist=False , label= \"gamma\")\n",
    "plt.legend(labels = ['X_norm', 'gamma'])"
   ]
  },
  {
   "cell_type": "code",
   "execution_count": 67,
   "metadata": {},
   "outputs": [],
   "source": [
    "df[\"beta\"] = 0.3 + df[\"gamma\"]"
   ]
  },
  {
   "cell_type": "code",
   "execution_count": 69,
   "metadata": {},
   "outputs": [
    {
     "data": {
      "text/plain": [
       "<matplotlib.legend.Legend at 0x7f816a188820>"
      ]
     },
     "execution_count": 69,
     "metadata": {},
     "output_type": "execute_result"
    },
    {
     "data": {
      "image/png": "[encoded data removed]",
      "text/plain": [
       "<Figure size 640x480 with 1 Axes>"
      ]
     },
     "metadata": {},
     "output_type": "display_data"
    }
   ],
   "source": [
    "sns.distplot(df[\"X\"] , hist=False , label= \"gamma\")\n",
    "sns.distplot(df[\"X_norm\"] , hist=False , label= \"beta\")\n",
    "sns.distplot(df[\"gamma\"] , hist=False , label= \"gamma\")\n",
    "sns.distplot(df[\"beta\"] , hist=False , label= \"beta\")\n",
    "plt.legend(labels = ['X', 'X_norm', 'gamma', 'beta'])"
   ]
  },
  {
   "cell_type": "code",
   "execution_count": null,
   "metadata": {},
   "outputs": [],
   "source": []
  }
 ],
 "metadata": {
  "kernelspec": {
   "display_name": "Python 3.9.0 ('tf_activation')",
   "language": "python",
   "name": "python3"
  },
  "language_info": {
   "codemirror_mode": {
    "name": "ipython",
    "version": 3
   },
   "file_extension": ".py",
   "mimetype": "text/x-python",
   "name": "python",
   "nbconvert_exporter": "python",
   "pygments_lexer": "ipython3",
   "version": "3.9.0"
  },
  "orig_nbformat": 4,
  "vscode": {
   "interpreter": {
    "hash": "3af8da872d671130d6671fbab1e199b40d93c3f1c12780ea7d43b8f934264a38"
   }
  }
 },
 "nbformat": 4,
 "nbformat_minor": 2
}
